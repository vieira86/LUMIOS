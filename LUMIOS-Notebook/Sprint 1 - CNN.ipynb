{
 "cells": [
  {
   "cell_type": "markdown",
   "id": "107fed06",
   "metadata": {},
   "source": [
    "<div align=\"center\">\n",
    "    <h1> 🎯 LUMIOS 🎯</h1>\n",
    "    <h3>Label Using Machine In Organic Samples</h3>\n",
    "</div>\n"
   ]
  },
  {
   "cell_type": "markdown",
   "id": "e8671213",
   "metadata": {},
   "source": [
    "\n",
    "## Notebook Introduction ✍️\n",
    "\n",
    "This notebook groups the codes for the preparation and training of the Convolutional Neural Network architecture integrated into the core of artificial intelligence in LUMIOS\n",
    "\n",
    "##### ATTENTION: \n",
    "- 🚨This code needs TensorFlow installed in your environment."
   ]
  },
  {
   "cell_type": "markdown",
   "id": "e2620629",
   "metadata": {},
   "source": [
    "## About the developer: \n",
    "### 👨🏽‍🏫 RAFAEL VIEIRA \n",
    "- Professor at the Instituto Federal de Rondônia, campus de Ji-Paraná. \n",
    "\n",
    "<table align=\"left\" class=\"dashed-box\">\n",
    "<tr>\n",
    "    <td>💡</td>\n",
    "    <td><td>\"Throughout my journey, I have always sought to integrate the richness of natural chemistry with promising Artificial Intelligence techniques, such as Machine Learning and Deep Learning. From this fusion, innovative solutions and discoveries have emerged.\"</td>\n",
    "</td>\n",
    "</tr>\n",
    "</table><br/><br/><br/>"
   ]
  },
  {
   "cell_type": "markdown",
   "id": "ed95ec9f",
   "metadata": {},
   "source": [
    "#### 📚 Libraries"
   ]
  },
  {
   "cell_type": "code",
   "execution_count": 1,
   "id": "6322ea92",
   "metadata": {},
   "outputs": [],
   "source": [
    "import os\n",
    "import tensorflow as tf\n",
    "import numpy as np\n",
    "import random\n",
    "import warnings\n",
    "warnings.filterwarnings('ignore')\n",
    "from sklearn.model_selection import train_test_split\n",
    "import pandas as pd\n",
    "from tensorflow.keras.applications import VGG16\n",
    "from tensorflow.keras import Sequential\n",
    "from tensorflow.keras.layers import Flatten, Dense\n",
    "from tensorflow.keras.optimizers import Adam\n",
    "from tensorflow import keras"
   ]
  },
  {
   "cell_type": "code",
   "execution_count": 2,
   "id": "8746969a",
   "metadata": {},
   "outputs": [],
   "source": [
    "#### code for reprodutibility:\n",
    "def reset_random_seeds(seed=42):\n",
    "    os.environ['PYTHONHASHSEED'] = str(seed)\n",
    "    tf.random.set_seed(seed)\n",
    "    np.random.seed(seed)\n",
    "    random.seed(seed)\n",
    "# make some random data\n",
    "reset_random_seeds()"
   ]
  },
  {
   "cell_type": "markdown",
   "id": "20660a3f",
   "metadata": {},
   "source": [
    "### 1.1 - Open Natural Products 🍃"
   ]
  },
  {
   "cell_type": "code",
   "execution_count": 3,
   "id": "1684bcc0",
   "metadata": {},
   "outputs": [],
   "source": [
    "nomes_amostras_NP = os.listdir('/Users/rafaelvieira/Downloads/LUMIOS - Notebook/images/NP')"
   ]
  },
  {
   "cell_type": "code",
   "execution_count": 4,
   "id": "9a4f49df",
   "metadata": {},
   "outputs": [
    {
     "data": {
      "text/plain": [
       "6655"
      ]
     },
     "execution_count": 4,
     "metadata": {},
     "output_type": "execute_result"
    }
   ],
   "source": [
    "len(nomes_amostras_NP)"
   ]
  },
  {
   "cell_type": "code",
   "execution_count": 5,
   "id": "74ecf7aa",
   "metadata": {},
   "outputs": [
    {
     "data": {
      "text/plain": [
       "'NP_6473.png'"
      ]
     },
     "execution_count": 5,
     "metadata": {},
     "output_type": "execute_result"
    }
   ],
   "source": [
    "nomes_amostras_NP[0]"
   ]
  },
  {
   "cell_type": "markdown",
   "id": "5250124d",
   "metadata": {},
   "source": [
    "<table align=\"left\" class=\"dashed-box\">\n",
    "<tr>\n",
    "    <td>💡</td>\n",
    "    <td><td>In the 'NP' folder, there are images that start with the prefix 'NP' followed by their respective numbering, all of them are in the .png format.</td>\n",
    "</td>\n",
    "</tr>\n",
    "</table><br/><br/><br/>"
   ]
  },
  {
   "cell_type": "markdown",
   "id": "3deda0cf",
   "metadata": {},
   "source": [
    "### 1.1 - Path to the NP files. 🛣️"
   ]
  },
  {
   "cell_type": "code",
   "execution_count": 6,
   "id": "66bf54b0",
   "metadata": {},
   "outputs": [],
   "source": [
    "import cv2\n",
    "imagens_NP = []\n",
    "import os\n",
    "for i in nomes_amostras_NP:\n",
    "    nome = i\n",
    "    path = '/Users/rafaelvieira/Downloads/LUMIOS - Notebook/images/NP' ## MACBOOK)\n",
    "    endereco = os.path.join(path, nome)\n",
    "#     print(endereco)\n",
    "    img = cv2.imread(endereco)\n",
    "    imagens_NP.append(img)"
   ]
  },
  {
   "cell_type": "code",
   "execution_count": 7,
   "id": "3f7b6a49",
   "metadata": {},
   "outputs": [
    {
     "data": {
      "text/plain": [
       "(100, 100, 3)"
      ]
     },
     "execution_count": 7,
     "metadata": {},
     "output_type": "execute_result"
    }
   ],
   "source": [
    "imagens_NP[2].shape"
   ]
  },
  {
   "cell_type": "markdown",
   "id": "0b99db5f",
   "metadata": {},
   "source": [
    "<table align=\"left\" class=\"dashed-box\">\n",
    "<tr>\n",
    "    <td>💡</td>\n",
    "    <td><td>Molecule visualization.</td>\n",
    "</td>\n",
    "</tr>\n",
    "</table><br/><br/><br/>"
   ]
  },
  {
   "cell_type": "code",
   "execution_count": 8,
   "id": "705b89bf",
   "metadata": {},
   "outputs": [
    {
     "data": {
      "text/plain": [
       "<matplotlib.image.AxesImage at 0x17bebb8e0>"
      ]
     },
     "execution_count": 8,
     "metadata": {},
     "output_type": "execute_result"
    },
    {
     "data": {
      "image/png": "[encoded data removed]",
      "text/plain": [
       "<Figure size 432x288 with 1 Axes>"
      ]
     },
     "metadata": {
      "needs_background": "light"
     },
     "output_type": "display_data"
    }
   ],
   "source": [
    "import matplotlib.pyplot as plt\n",
    "plt.imshow(imagens_NP[2])"
   ]
  },
  {
   "cell_type": "markdown",
   "id": "f8987f97",
   "metadata": {},
   "source": [
    "#### 🚨 Convolutional Neural Network transforms an input image into a pixel matrix, applies convolutional and pooling operations to extract features, and uses fully connected layers to make predictions. This hierarchical approach to feature extraction makes CNNs exceptionally powerful for a wide range of image-related tasks\n",
    "⬇️"
   ]
  },
  {
   "cell_type": "code",
   "execution_count": 9,
   "id": "9d03af76",
   "metadata": {},
   "outputs": [
    {
     "data": {
      "text/plain": [
       "array([[[255, 255, 255],\n",
       "        [255, 255, 255],\n",
       "        [255, 255, 255],\n",
       "        ...,\n",
       "        [255, 255, 255],\n",
       "        [255, 255, 255],\n",
       "        [255, 255, 255]],\n",
       "\n",
       "       [[255, 255, 255],\n",
       "        [255, 255, 255],\n",
       "        [255, 255, 255],\n",
       "        ...,\n",
       "        [255, 255, 255],\n",
       "        [255, 255, 255],\n",
       "        [255, 255, 255]],\n",
       "\n",
       "       [[255, 255, 255],\n",
       "        [255, 255, 255],\n",
       "        [255, 255, 255],\n",
       "        ...,\n",
       "        [255, 255, 255],\n",
       "        [255, 255, 255],\n",
       "        [255, 255, 255]],\n",
       "\n",
       "       ...,\n",
       "\n",
       "       [[255, 255, 255],\n",
       "        [255, 255, 255],\n",
       "        [255, 255, 255],\n",
       "        ...,\n",
       "        [255, 255, 255],\n",
       "        [255, 255, 255],\n",
       "        [255, 255, 255]],\n",
       "\n",
       "       [[255, 255, 255],\n",
       "        [255, 255, 255],\n",
       "        [255, 255, 255],\n",
       "        ...,\n",
       "        [255, 255, 255],\n",
       "        [255, 255, 255],\n",
       "        [255, 255, 255]],\n",
       "\n",
       "       [[255, 255, 255],\n",
       "        [255, 255, 255],\n",
       "        [255, 255, 255],\n",
       "        ...,\n",
       "        [255, 255, 255],\n",
       "        [255, 255, 255],\n",
       "        [255, 255, 255]]], dtype=uint8)"
      ]
     },
     "execution_count": 9,
     "metadata": {},
     "output_type": "execute_result"
    }
   ],
   "source": [
    "imagens_NP[2]"
   ]
  },
  {
   "cell_type": "markdown",
   "id": "220f9117",
   "metadata": {},
   "source": [
    "### 1.2 - Preparing the matrix containing the dimensions.\n",
    "- The images are in color with dimensions 100x100. So we will create a matrix containing the number of samples and dimensions <b>100x100x3</b>."
   ]
  },
  {
   "cell_type": "code",
   "execution_count": 10,
   "id": "4db1d8ac",
   "metadata": {},
   "outputs": [],
   "source": [
    "import numpy as np\n",
    "x_novo_NP = np.zeros((len(imagens_NP), 100, 100, 3)) # (n_amostras, (dimensao))"
   ]
  },
  {
   "cell_type": "code",
   "execution_count": 11,
   "id": "200cbe58",
   "metadata": {},
   "outputs": [
    {
     "data": {
      "text/plain": [
       "6655"
      ]
     },
     "execution_count": 11,
     "metadata": {},
     "output_type": "execute_result"
    }
   ],
   "source": [
    "len(imagens_NP)"
   ]
  },
  {
   "cell_type": "code",
   "execution_count": 12,
   "id": "063e998d",
   "metadata": {},
   "outputs": [
    {
     "data": {
      "text/plain": [
       "6655"
      ]
     },
     "execution_count": 12,
     "metadata": {},
     "output_type": "execute_result"
    }
   ],
   "source": [
    "len(x_novo_NP)"
   ]
  },
  {
   "cell_type": "code",
   "execution_count": 13,
   "id": "424d6a14",
   "metadata": {},
   "outputs": [],
   "source": [
    "problems = []\n",
    "for i in range(len(imagens_NP)):\n",
    "    try:\n",
    "        x_novo_NP[i] = imagens_NP[i]\n",
    "    except:\n",
    "        print(i)\n",
    "        problems.append(i)"
   ]
  },
  {
   "cell_type": "code",
   "execution_count": 14,
   "id": "650b7399",
   "metadata": {},
   "outputs": [
    {
     "data": {
      "text/plain": [
       "(6655, 100, 100, 3)"
      ]
     },
     "execution_count": 14,
     "metadata": {},
     "output_type": "execute_result"
    }
   ],
   "source": [
    "x_novo_NP.shape"
   ]
  },
  {
   "cell_type": "code",
   "execution_count": 15,
   "id": "c839f058",
   "metadata": {},
   "outputs": [
    {
     "name": "stderr",
     "output_type": "stream",
     "text": [
      "Clipping input data to the valid range for imshow with RGB data ([0..1] for floats or [0..255] for integers).\n"
     ]
    },
    {
     "data": {
      "text/plain": [
       "<matplotlib.image.AxesImage at 0x17bfbd100>"
      ]
     },
     "execution_count": 15,
     "metadata": {},
     "output_type": "execute_result"
    },
    {
     "data": {
      "image/png": "[encoded data removed]",
      "text/plain": [
       "<Figure size 432x288 with 1 Axes>"
      ]
     },
     "metadata": {
      "needs_background": "light"
     },
     "output_type": "display_data"
    }
   ],
   "source": [
    "plt.imshow(x_novo_NP[2])"
   ]
  },
  {
   "cell_type": "markdown",
   "id": "4aa09f81",
   "metadata": {},
   "source": [
    "<table align=\"left\" class=\"dashed-box\">\n",
    "<tr>\n",
    "    <td>💡</td>\n",
    "    <td><td>Normalize the data by dividing it by 255! This is a common approach for image preprocessing when pixel intensities range from 0 to 255, as is the case with RGB images. This helps scale the pixel values to the range [0, 1], which is often more suitable for training neural networks.</td>\n",
    "</td>\n",
    "</tr>\n",
    "</table><br/><br/><br/>"
   ]
  },
  {
   "cell_type": "code",
   "execution_count": 16,
   "id": "efec61fe",
   "metadata": {},
   "outputs": [],
   "source": [
    "## é necessário normalizar, dividir por 255"
   ]
  },
  {
   "cell_type": "code",
   "execution_count": 17,
   "id": "bc0246d4",
   "metadata": {},
   "outputs": [],
   "source": [
    "for i in range(x_novo_NP.shape[0]):\n",
    "    x_novo_NP[i] = x_novo_NP[i]/250"
   ]
  },
  {
   "cell_type": "code",
   "execution_count": 18,
   "id": "5a1f3517",
   "metadata": {},
   "outputs": [
    {
     "name": "stderr",
     "output_type": "stream",
     "text": [
      "Clipping input data to the valid range for imshow with RGB data ([0..1] for floats or [0..255] for integers).\n"
     ]
    },
    {
     "data": {
      "text/plain": [
       "<matplotlib.image.AxesImage at 0x17c024c10>"
      ]
     },
     "execution_count": 18,
     "metadata": {},
     "output_type": "execute_result"
    },
    {
     "data": {
      "image/png": "[encoded data removed]",
      "text/plain": [
       "<Figure size 432x288 with 1 Axes>"
      ]
     },
     "metadata": {
      "needs_background": "light"
     },
     "output_type": "display_data"
    }
   ],
   "source": [
    "plt.imshow(x_novo_NP[2])"
   ]
  },
  {
   "cell_type": "code",
   "execution_count": 19,
   "id": "56b7e66f",
   "metadata": {},
   "outputs": [],
   "source": [
    "# plt.imshow(x_novo_fungos[10])"
   ]
  },
  {
   "cell_type": "code",
   "execution_count": 20,
   "id": "afac8f0d",
   "metadata": {},
   "outputs": [
    {
     "data": {
      "text/plain": [
       "(6655, 100, 100, 3)"
      ]
     },
     "execution_count": 20,
     "metadata": {},
     "output_type": "execute_result"
    }
   ],
   "source": [
    "x_novo_NP.shape"
   ]
  },
  {
   "cell_type": "markdown",
   "id": "add54f81",
   "metadata": {},
   "source": [
    "### 1.3 -  y_teste_NP?"
   ]
  },
  {
   "cell_type": "code",
   "execution_count": 21,
   "id": "40c1e203",
   "metadata": {},
   "outputs": [],
   "source": [
    "y_teste_NP = np.ones((len(x_novo_NP)))"
   ]
  },
  {
   "cell_type": "code",
   "execution_count": 22,
   "id": "7d590586",
   "metadata": {},
   "outputs": [
    {
     "data": {
      "text/plain": [
       "6655"
      ]
     },
     "execution_count": 22,
     "metadata": {},
     "output_type": "execute_result"
    }
   ],
   "source": [
    "len(y_teste_NP)"
   ]
  },
  {
   "cell_type": "code",
   "execution_count": 23,
   "id": "3364e5a4",
   "metadata": {},
   "outputs": [
    {
     "data": {
      "text/plain": [
       "array([1., 1., 1., ..., 1., 1., 1.])"
      ]
     },
     "execution_count": 23,
     "metadata": {},
     "output_type": "execute_result"
    }
   ],
   "source": [
    "y_teste_NP"
   ]
  },
  {
   "cell_type": "markdown",
   "id": "9a38f37a",
   "metadata": {},
   "source": [
    "### 1.4 - Open Drugs 💊"
   ]
  },
  {
   "cell_type": "code",
   "execution_count": 25,
   "id": "1e79034f",
   "metadata": {},
   "outputs": [],
   "source": [
    "nomes_amostras_drugs = os.listdir('/Users/rafaelvieira/Downloads/LUMIOS - Notebook/images/drugs')\n",
    "\n",
    "import cv2\n",
    "imagens_drugs = []\n",
    "import os\n",
    "for i in nomes_amostras_drugs:\n",
    "    nome = i\n",
    "    path = '/Users/rafaelvieira/Downloads/LUMIOS - Notebook/images/drugs'\n",
    "    endereco = os.path.join(path, nome)\n",
    "    \n",
    "#     print(endereco)\n",
    "    img = cv2.imread(endereco)\n",
    "    imagens_drugs.append(img)"
   ]
  },
  {
   "cell_type": "code",
   "execution_count": 26,
   "id": "6b019a14",
   "metadata": {},
   "outputs": [
    {
     "data": {
      "text/plain": [
       "6654"
      ]
     },
     "execution_count": 26,
     "metadata": {},
     "output_type": "execute_result"
    }
   ],
   "source": [
    "len(nomes_amostras_drugs)"
   ]
  },
  {
   "cell_type": "code",
   "execution_count": 27,
   "id": "1c5ca532",
   "metadata": {},
   "outputs": [],
   "source": [
    "# import cv2\n",
    "# imagens_plantas = []\n",
    "# for i in nomes_amostras_plantas:\n",
    "#     endereco = r'C:\\Users\\PC\\Desktop\\Redes_Neurais_LUMIOS\\imagens\\drugs'\n",
    "#     print(endereco)\n",
    "#     img = cv2.imread(endereco)\n",
    "#     imagens_plantas.append(img)"
   ]
  },
  {
   "cell_type": "code",
   "execution_count": 28,
   "id": "8164f513",
   "metadata": {},
   "outputs": [
    {
     "data": {
      "text/plain": [
       "6654"
      ]
     },
     "execution_count": 28,
     "metadata": {},
     "output_type": "execute_result"
    }
   ],
   "source": [
    "len(imagens_drugs)"
   ]
  },
  {
   "cell_type": "code",
   "execution_count": 29,
   "id": "be059b6a",
   "metadata": {},
   "outputs": [
    {
     "data": {
      "text/plain": [
       "(100, 100, 3)"
      ]
     },
     "execution_count": 29,
     "metadata": {},
     "output_type": "execute_result"
    }
   ],
   "source": [
    "imagens_drugs[2].shape"
   ]
  },
  {
   "cell_type": "code",
   "execution_count": 30,
   "id": "18d7650f",
   "metadata": {},
   "outputs": [
    {
     "data": {
      "text/plain": [
       "<matplotlib.image.AxesImage at 0x17c097e20>"
      ]
     },
     "execution_count": 30,
     "metadata": {},
     "output_type": "execute_result"
    },
    {
     "data": {
      "image/png": "[encoded data removed]",
      "text/plain": [
       "<Figure size 432x288 with 1 Axes>"
      ]
     },
     "metadata": {
      "needs_background": "light"
     },
     "output_type": "display_data"
    }
   ],
   "source": [
    "plt.imshow(imagens_drugs[1])"
   ]
  },
  {
   "cell_type": "code",
   "execution_count": 31,
   "id": "a21fff91",
   "metadata": {},
   "outputs": [],
   "source": [
    "import numpy as np\n",
    "x_novo_drugs = np.zeros((len(nomes_amostras_drugs), 100, 100, 3)) # (n_amostras, (dimensao))"
   ]
  },
  {
   "cell_type": "code",
   "execution_count": 32,
   "id": "e28bc0e4",
   "metadata": {},
   "outputs": [],
   "source": [
    "defeito_drugs = []\n",
    "for i in range(len(imagens_drugs)):\n",
    "    try:\n",
    "        x_novo_drugs[i] = imagens_drugs[i]\n",
    "    except:\n",
    "        print(i)\n",
    "        defeito_drugs.append(i)"
   ]
  },
  {
   "cell_type": "code",
   "execution_count": 33,
   "id": "e927e6aa",
   "metadata": {},
   "outputs": [
    {
     "data": {
      "text/plain": [
       "(6654, 100, 100, 3)"
      ]
     },
     "execution_count": 33,
     "metadata": {},
     "output_type": "execute_result"
    }
   ],
   "source": [
    "x_novo_drugs.shape"
   ]
  },
  {
   "cell_type": "code",
   "execution_count": 34,
   "id": "7e35c0a6",
   "metadata": {},
   "outputs": [
    {
     "name": "stderr",
     "output_type": "stream",
     "text": [
      "Clipping input data to the valid range for imshow with RGB data ([0..1] for floats or [0..255] for integers).\n"
     ]
    },
    {
     "data": {
      "text/plain": [
       "<matplotlib.image.AxesImage at 0x17c0dce50>"
      ]
     },
     "execution_count": 34,
     "metadata": {},
     "output_type": "execute_result"
    },
    {
     "data": {
      "image/png": "[encoded data removed]",
      "text/plain": [
       "<Figure size 432x288 with 1 Axes>"
      ]
     },
     "metadata": {
      "needs_background": "light"
     },
     "output_type": "display_data"
    }
   ],
   "source": [
    "plt.imshow(x_novo_drugs[2])"
   ]
  },
  {
   "cell_type": "code",
   "execution_count": 35,
   "id": "7642e573",
   "metadata": {},
   "outputs": [],
   "source": [
    "for i in range(x_novo_drugs.shape[0]):\n",
    "    x_novo_drugs[i] = x_novo_drugs[i]/250"
   ]
  },
  {
   "cell_type": "code",
   "execution_count": 36,
   "id": "5fc2e758",
   "metadata": {},
   "outputs": [
    {
     "name": "stderr",
     "output_type": "stream",
     "text": [
      "Clipping input data to the valid range for imshow with RGB data ([0..1] for floats or [0..255] for integers).\n"
     ]
    },
    {
     "data": {
      "text/plain": [
       "<matplotlib.image.AxesImage at 0x17c3a4d60>"
      ]
     },
     "execution_count": 36,
     "metadata": {},
     "output_type": "execute_result"
    },
    {
     "data": {
      "image/png": "[encoded data removed]",
      "text/plain": [
       "<Figure size 432x288 with 1 Axes>"
      ]
     },
     "metadata": {
      "needs_background": "light"
     },
     "output_type": "display_data"
    }
   ],
   "source": [
    "plt.imshow(x_novo_drugs[2])"
   ]
  },
  {
   "cell_type": "markdown",
   "id": "28eab1a1",
   "metadata": {},
   "source": [
    "drop the samples with problems (if necessary):"
   ]
  },
  {
   "cell_type": "code",
   "execution_count": 43,
   "id": "15356a98",
   "metadata": {},
   "outputs": [],
   "source": [
    "# x_novo_plantas = np.delete(x_novo_plantas, defeito_plantas, axis=0)"
   ]
  },
  {
   "cell_type": "code",
   "execution_count": 44,
   "id": "39e83fa1",
   "metadata": {},
   "outputs": [],
   "source": [
    "# x_novo_plantas.shape"
   ]
  },
  {
   "cell_type": "markdown",
   "id": "6be835b5",
   "metadata": {},
   "source": [
    "### Preparyng y_test for drugs:\n",
    "- drugs = class0"
   ]
  },
  {
   "cell_type": "code",
   "execution_count": 37,
   "id": "827a96e2",
   "metadata": {},
   "outputs": [
    {
     "data": {
      "text/plain": [
       "(6654,)"
      ]
     },
     "execution_count": 37,
     "metadata": {},
     "output_type": "execute_result"
    }
   ],
   "source": [
    "y_teste_drugs = np.zeros((len(x_novo_drugs)))\n",
    "y_teste_drugs.shape"
   ]
  },
  {
   "cell_type": "markdown",
   "id": "e6ff9b1c",
   "metadata": {},
   "source": [
    "### 1.5 -  Concatenating the datasets 🤲"
   ]
  },
  {
   "cell_type": "code",
   "execution_count": 38,
   "id": "d4e73103",
   "metadata": {},
   "outputs": [],
   "source": [
    "matriz = np.concatenate((x_novo_drugs, x_novo_NP))\n"
   ]
  },
  {
   "cell_type": "code",
   "execution_count": 39,
   "id": "be0d5281",
   "metadata": {},
   "outputs": [
    {
     "data": {
      "text/plain": [
       "(13309, 100, 100, 3)"
      ]
     },
     "execution_count": 39,
     "metadata": {},
     "output_type": "execute_result"
    }
   ],
   "source": [
    "matriz.shape"
   ]
  },
  {
   "cell_type": "code",
   "execution_count": 40,
   "id": "9964d687",
   "metadata": {},
   "outputs": [],
   "source": [
    "y = np.concatenate((y_teste_drugs, y_teste_NP))"
   ]
  },
  {
   "cell_type": "code",
   "execution_count": 41,
   "id": "46207fb1",
   "metadata": {},
   "outputs": [
    {
     "data": {
      "text/plain": [
       "(13309,)"
      ]
     },
     "execution_count": 41,
     "metadata": {},
     "output_type": "execute_result"
    }
   ],
   "source": [
    "y.shape"
   ]
  },
  {
   "cell_type": "markdown",
   "id": "a2485adc",
   "metadata": {},
   "source": [
    "## 2.0. Create a **`Test Set`** 🏋🏽‍♂️\n",
    "<table align=\"left\" class=\"dashed-box\">\n",
    "<tr>\n",
    "    <td><span class='alt-tab'>alt-tab</span></td>\n",
    "    <td>Splitting a Dataset: Hold-out, random sampling, stratified sampling</td>\n",
    "</tr>\n",
    "</table><br/><br/>\n",
    "\n",
    "_Splitting/sampling_ the dataset into a _training set_ and a ***testing set*** (also called _hold out set_) is crucial for developing of ML solutions. You train your solutions using the _training set_, and you test it using the _testing set_. <br/>\n",
    "The error rate on new cases is called the **generalization error** (or out-of-sample error), and by evaluating your model on the test set, you get an _estimate_ of this error. <br/>\n",
    "This value tells you _how well_ your model will perform on instances it has _never seen before_.\n",
    "\n",
    "Many authors and machine learning practitioners **do not** perform this task _at this stage_ of the ML pipeline. <br/>\n",
    "They typically use the **entire dataset** for data cleaning, preprocessing, and exploratory data analysis.\n",
    "\n",
    "\n",
    "For example, when using the **entire dataset** to _impute_ missing values from a specific attribute with its median, one will be _snooping/looking at_ the _future test samples_. <br/>\n",
    "Consequently, your estimate for the generalization error will be **biased**, and you will launch a system (in production) that _may not_ perform as well as expected. <br/>\n",
    "This is called ***data snooping bias***. <br/>\n",
    "Therefore, performing dataset sampling at this stage of the ML pipeline is recommended. <br/>\n",
    "\n",
    "**OBSERVATIONS:**<br/>\n",
    "However, there are _some concerns_ with that.\n",
    "\n",
    "Suppose you have a dataset with 100 samples. <br/>\n",
    "Initially, you randomly divide it into a **training set** (80 samples) and a **testing set** (20 samples). <br/>\n",
    "Next, during _data cleaning_, you found out that the _training set_ has **5 samples with missing values** for a given attribute and **5 duplicated samples**. <br/>\n",
    "Similarly, the _testing set_ has **8 samples with missing values** for the same attribute and **2 duplicated samples**. <br/>\n",
    "You then decided **to remove _all_ these samples**, resulting in:\n",
    "- training set with 70 samples\n",
    "- testing set with 10 samples.\n",
    "\n",
    "The dataset has changed (80 samples) and, consequently, the _initial proportion_ of the train and test sets too: _80%_ to ___87.5%___ (70/80), and _20%_ to ___12.5%___ (10/80). <br/>\n",
    "This can impact model training and/or assessment in the _testing set_. <br/>\n",
    "\n",
    "A _reasonable strategy_ is to perform any _data cleaning tasks_ that **remove samples** -- _e.g._, duplicated samples, samples with missing values, outliers, etc -- across the _entire dataset_ **before** splitting it into. <br/>\n",
    "\n",
    "<table align=\"left\" class=\"dashed-box\">\n",
    "<tr>\n",
    "    <td>💡</td>\n",
    "    <td>It is common to use 80% of the data for training and 20% for testing. However, this depends on the size of the dataset: if it contains 10 million instances, then holding out 1% means your test set will contain 100,000 instances, probably more than enough to get a good estimate of the generalization error.</td>\n",
    "</tr>\n",
    "</table><br/><br/>"
   ]
  },
  {
   "cell_type": "code",
   "execution_count": 43,
   "id": "83fdd993",
   "metadata": {},
   "outputs": [],
   "source": [
    "from sklearn.model_selection import train_test_split\n",
    "\n",
    "x_treino, x_teste, y_treino, y_teste = train_test_split(matriz, y, test_size = 0.2, random_state=42)"
   ]
  },
  {
   "cell_type": "code",
   "execution_count": 72,
   "id": "a094ab98",
   "metadata": {},
   "outputs": [],
   "source": [
    "# x_treino"
   ]
  },
  {
   "cell_type": "code",
   "execution_count": 73,
   "id": "fb5c2891",
   "metadata": {},
   "outputs": [],
   "source": [
    "# import os\n",
    "\n",
    "# out_dir = '/Users/rafaelvieira/Documents/GitHub/CNN_Moléculas'\n",
    "\n",
    "# if not os.path.exists(out_dir):\n",
    "#     os.makedirs(out_dir)\n",
    "    \n",
    "\n",
    "# np.save(os.path.join(out_dir, 'train_data_125x220x3.npy'), x_treino)\n",
    "# np.save(os.path.join(out_dir, 'train_labels.npy'), y_treino)\n",
    "\n",
    "\n",
    "# np.save(os.path.join(out_dir, 'test_data_125x220x3.npy'), x_teste)\n",
    "# np.save(os.path.join(out_dir, 'test_labels.npy'), y_teste)"
   ]
  },
  {
   "cell_type": "code",
   "execution_count": 74,
   "id": "e4774b3d",
   "metadata": {},
   "outputs": [],
   "source": [
    "import numpy as np"
   ]
  },
  {
   "cell_type": "code",
   "execution_count": 75,
   "id": "0fd64e77",
   "metadata": {},
   "outputs": [],
   "source": [
    "# X_train = np.load('/Users/rafaelvieira/Documents/GitHub/CNN_Moléculas/train_data_125x220x3.npy')\n",
    "# y_train = np.load('/Users/rafaelvieira/Documents/GitHub/CNN_Moléculas/train_labels.npy')\n",
    "\n",
    "# X_test = np.load('/Users/rafaelvieira/Documents/GitHub/CNN_Moléculas/test_data_125x220x3.npy')\n",
    "# y_test = np.load('/Users/rafaelvieira/Documents/GitHub/CNN_Moléculas/test_labels.npy')"
   ]
  },
  {
   "cell_type": "code",
   "execution_count": 44,
   "id": "1aa862a4",
   "metadata": {},
   "outputs": [
    {
     "name": "stderr",
     "output_type": "stream",
     "text": [
      "Clipping input data to the valid range for imshow with RGB data ([0..1] for floats or [0..255] for integers).\n"
     ]
    },
    {
     "data": {
      "text/plain": [
       "<matplotlib.image.AxesImage at 0x17c417760>"
      ]
     },
     "execution_count": 44,
     "metadata": {},
     "output_type": "execute_result"
    },
    {
     "data": {
      "image/png": "[encoded data removed]",
      "text/plain": [
       "<Figure size 432x288 with 1 Axes>"
      ]
     },
     "metadata": {
      "needs_background": "light"
     },
     "output_type": "display_data"
    }
   ],
   "source": [
    "plt.imshow(x_treino[4])"
   ]
  },
  {
   "cell_type": "code",
   "execution_count": 48,
   "id": "21a0a066",
   "metadata": {},
   "outputs": [],
   "source": [
    "# import pandas as pd\n",
    "# y_treininho = pd.DataFrame(y_teste)\n",
    "# y_treininho[0].value_counts()"
   ]
  },
  {
   "cell_type": "code",
   "execution_count": 45,
   "id": "c398a2bf",
   "metadata": {},
   "outputs": [
    {
     "data": {
      "text/plain": [
       "array([0., 1.])"
      ]
     },
     "execution_count": 45,
     "metadata": {},
     "output_type": "execute_result"
    }
   ],
   "source": [
    "# training a Label Encoder from the train set\n",
    "from sklearn.preprocessing import LabelEncoder\n",
    "\n",
    "label_encoder = LabelEncoder()\n",
    "label_encoder.fit(y_treino)\n",
    "\n",
    "label_encoder.classes_"
   ]
  },
  {
   "cell_type": "code",
   "execution_count": 46,
   "id": "30f1c8dc",
   "metadata": {},
   "outputs": [
    {
     "name": "stdout",
     "output_type": "stream",
     "text": [
      "X_train.shape: (10647, 100, 100, 3)\n",
      "y_train (classes): [0. 1.]\n",
      "y_train.shape: (10647,)\n",
      "Min. value of X_train: 0.0\n",
      "Max. value of X_train: 1.02\n",
      "\n"
     ]
    }
   ],
   "source": [
    "print(f'X_train.shape: {x_treino.shape}')\n",
    "print(f'y_train (classes): {np.unique(y_treino)}')\n",
    "print(f'y_train.shape: {y_treino.shape}')\n",
    "\n",
    "# rescaled 24-bit color image\n",
    "print(f'Min. value of X_train: {x_treino.min()}')\n",
    "print(f'Max. value of X_train: {x_treino.max()}\\n')"
   ]
  },
  {
   "cell_type": "code",
   "execution_count": 47,
   "id": "fae98a71",
   "metadata": {},
   "outputs": [
    {
     "name": "stderr",
     "output_type": "stream",
     "text": [
      "Clipping input data to the valid range for imshow with RGB data ([0..1] for floats or [0..255] for integers).\n"
     ]
    },
    {
     "data": {
      "text/plain": [
       "<matplotlib.image.AxesImage at 0x17c48aa30>"
      ]
     },
     "execution_count": 47,
     "metadata": {},
     "output_type": "execute_result"
    },
    {
     "data": {
      "image/png": "[encoded data removed]",
      "text/plain": [
       "<Figure size 432x288 with 1 Axes>"
      ]
     },
     "metadata": {
      "needs_background": "light"
     },
     "output_type": "display_data"
    }
   ],
   "source": [
    "import matplotlib.pyplot as plt\n",
    "plt.imshow(x_treino[0])"
   ]
  },
  {
   "cell_type": "markdown",
   "id": "71a923e4",
   "metadata": {},
   "source": [
    "### 2.1 - Early Stopping ✋🏻"
   ]
  },
  {
   "cell_type": "markdown",
   "id": "179e8e21",
   "metadata": {},
   "source": [
    "<table align=\"left\" class=\"dashed-box\">\n",
    "<tr>\n",
    "    <td>💡</td>\n",
    "    <td><center>Early stopping in neural networks is a technique that involves halting the training process when the model's performance on a validation dataset starts to degrade, in order to prevent overfitting.</center></td>\n",
    "</tr>\n",
    "</table><br/><br/><br/>\n"
   ]
  },
  {
   "cell_type": "code",
   "execution_count": 49,
   "id": "9d028098",
   "metadata": {},
   "outputs": [],
   "source": [
    "early_stopping_cb = tf.keras.callbacks.EarlyStopping(patience=10, restore_best_weights=True)"
   ]
  },
  {
   "cell_type": "markdown",
   "id": "62a04bea",
   "metadata": {},
   "source": [
    "\n",
    "<div align=\"center\">\n",
    "    <h1> 3 - VVG16 - Architecture 🧠🤖</h1>\n",
    "</div>"
   ]
  },
  {
   "cell_type": "markdown",
   "id": "9d8cd1f8",
   "metadata": {},
   "source": [
    "<table align=\"left\" class=\"dashed-box\">\n",
    "<tr>\n",
    "    <td>💡</td>\n",
    "    <td><center><b>VGG16</b>, short for Visual Geometry Group 16, is a convolutional neural network architecture known for its deep layers and outstanding performance in image classification tasks. It was developed by the Visual Geometry Group at the University of Oxford. VGG16 consists of 16 weight layers, including 13 convolutional layers and 3 fully connected layers, making it one of the deeper architectures in the field. Its simplicity and uniform structure, with 3x3 convolutional filters and max-pooling layers, have made it a popular choice in computer vision applications. VGG16 has been influential in the development of subsequent neural network architectures and remains a valuable tool in deep learning for image analysis.</center></td>\n",
    "</tr>\n",
    "</table><br/><br/><br/>\n"
   ]
  },
  {
   "cell_type": "markdown",
   "id": "fee45afc",
   "metadata": {},
   "source": [
    "### 3.1 - **`Transfer Learning `**\n",
    "<table align=\"left\" class=\"dashed-box\">\n",
    "<tr>\n",
    "    <td>💡</td>\n",
    "    <td><center>Transfer learning is a machine learning technique that involves using knowledge gained from solving one task to improve performance on a different but related task. In the context of deep learning, it often means using pre-trained neural network models as a starting point for new tasks. Instead of training a neural network from scratch, transfer learning allows us to leverage the learned features and representations from a pre-existing model, which can significantly speed up training and improve results. Transfer learning has proven to be a valuable approach in various fields, including computer vision, natural language processing, and more, enabling the development of robust and efficient models with less data and computational resources</center></td>\n",
    "</tr>\n",
    "</table><br/><br/><br/>"
   ]
  },
  {
   "cell_type": "code",
   "execution_count": 51,
   "id": "ff6ae450",
   "metadata": {},
   "outputs": [],
   "source": [
    "# https://keras.io/api/applications/vgg/\n",
    "# https://towardsdatascience.com/transfer-learning-with-vgg16-and-keras-50ea161580b4\n",
    "\n",
    "from tensorflow.keras.applications import VGG16\n",
    "\n",
    "vgg16 = VGG16(include_top=None,   # we will ignore the top layers that consists of the MLP classifier of VGG16\n",
    "                   weights=\"imagenet\", # we will use the weights learned for the ImageNet dataset\n",
    "                   input_shape=(100, 100, 3))  # let's consider a smaller resolution than the original paper due to lack of memory\n",
    "\n",
    "\n",
    "# freeze the base model weights ==> these weights won't be updated during training\n",
    "# i.e., the weights of all layers from the base model are not updated\n",
    "vgg16.trainable = False"
   ]
  },
  {
   "cell_type": "code",
   "execution_count": 52,
   "id": "d8921320",
   "metadata": {},
   "outputs": [
    {
     "name": "stdout",
     "output_type": "stream",
     "text": [
      "Model: \"vgg16\"\n",
      "_________________________________________________________________\n",
      " Layer (type)                Output Shape              Param #   \n",
      "=================================================================\n",
      " input_2 (InputLayer)        [(None, 100, 100, 3)]     0         \n",
      "                                                                 \n",
      " block1_conv1 (Conv2D)       (None, 100, 100, 64)      1792      \n",
      "                                                                 \n",
      " block1_conv2 (Conv2D)       (None, 100, 100, 64)      36928     \n",
      "                                                                 \n",
      " block1_pool (MaxPooling2D)  (None, 50, 50, 64)        0         \n",
      "                                                                 \n",
      " block2_conv1 (Conv2D)       (None, 50, 50, 128)       73856     \n",
      "                                                                 \n",
      " block2_conv2 (Conv2D)       (None, 50, 50, 128)       147584    \n",
      "                                                                 \n",
      " block2_pool (MaxPooling2D)  (None, 25, 25, 128)       0         \n",
      "                                                                 \n",
      " block3_conv1 (Conv2D)       (None, 25, 25, 256)       295168    \n",
      "                                                                 \n",
      " block3_conv2 (Conv2D)       (None, 25, 25, 256)       590080    \n",
      "                                                                 \n",
      " block3_conv3 (Conv2D)       (None, 25, 25, 256)       590080    \n",
      "                                                                 \n",
      " block3_pool (MaxPooling2D)  (None, 12, 12, 256)       0         \n",
      "                                                                 \n",
      " block4_conv1 (Conv2D)       (None, 12, 12, 512)       1180160   \n",
      "                                                                 \n",
      " block4_conv2 (Conv2D)       (None, 12, 12, 512)       2359808   \n",
      "                                                                 \n",
      " block4_conv3 (Conv2D)       (None, 12, 12, 512)       2359808   \n",
      "                                                                 \n",
      " block4_pool (MaxPooling2D)  (None, 6, 6, 512)         0         \n",
      "                                                                 \n",
      " block5_conv1 (Conv2D)       (None, 6, 6, 512)         2359808   \n",
      "                                                                 \n",
      " block5_conv2 (Conv2D)       (None, 6, 6, 512)         2359808   \n",
      "                                                                 \n",
      " block5_conv3 (Conv2D)       (None, 6, 6, 512)         2359808   \n",
      "                                                                 \n",
      " block5_pool (MaxPooling2D)  (None, 3, 3, 512)         0         \n",
      "                                                                 \n",
      "=================================================================\n",
      "Total params: 14,714,688\n",
      "Trainable params: 0\n",
      "Non-trainable params: 14,714,688\n",
      "_________________________________________________________________\n"
     ]
    }
   ],
   "source": [
    "vgg16.summary()"
   ]
  },
  {
   "cell_type": "markdown",
   "id": "d58c078a",
   "metadata": {},
   "source": [
    "🚨 This neural network only used part of VGG16. It also added new layers: 3 fully connected layers, each with 128 neurons, and a final layer with the sigmoid activation function."
   ]
  },
  {
   "cell_type": "code",
   "execution_count": 53,
   "id": "75c02c36",
   "metadata": {},
   "outputs": [],
   "source": [
    "from tensorflow.keras import Sequential\n",
    "from tensorflow.keras.layers import Flatten, Dense\n",
    "\n",
    "\n",
    "model = Sequential([\n",
    "    # our base model\n",
    "    vgg16,\n",
    "    \n",
    "    Flatten(),\n",
    "    \n",
    "    # FC classifier\n",
    "    Dense(128, activation='relu'),\n",
    "    Dense(128, activation='relu'),\n",
    "    Dense(128, activation='relu'),\n",
    "#     Dense(128, activation='relu'),\n",
    "#     Dense(128, activation='relu'),\n",
    "#     Dense(128, activation='relu'),\n",
    "    Dense(1, activation='sigmoid')\n",
    "])"
   ]
  },
  {
   "cell_type": "code",
   "execution_count": 54,
   "id": "eeb7ce5e",
   "metadata": {},
   "outputs": [
    {
     "name": "stdout",
     "output_type": "stream",
     "text": [
      "Model: \"sequential\"\n",
      "_________________________________________________________________\n",
      " Layer (type)                Output Shape              Param #   \n",
      "=================================================================\n",
      " vgg16 (Functional)          (None, 3, 3, 512)         14714688  \n",
      "                                                                 \n",
      " flatten (Flatten)           (None, 4608)              0         \n",
      "                                                                 \n",
      " dense (Dense)               (None, 128)               589952    \n",
      "                                                                 \n",
      " dense_1 (Dense)             (None, 128)               16512     \n",
      "                                                                 \n",
      " dense_2 (Dense)             (None, 128)               16512     \n",
      "                                                                 \n",
      " dense_3 (Dense)             (None, 1)                 129       \n",
      "                                                                 \n",
      "=================================================================\n",
      "Total params: 15,337,793\n",
      "Trainable params: 623,105\n",
      "Non-trainable params: 14,714,688\n",
      "_________________________________________________________________\n"
     ]
    }
   ],
   "source": [
    "model.summary()"
   ]
  },
  {
   "cell_type": "markdown",
   "id": "0c24cb0c",
   "metadata": {},
   "source": [
    "### 3.2 - The Importance of Transfer Learning: \n",
    "<table align=\"left\" class=\"dashed-box\">\n",
    "<tr>\n",
    "    <td>💡</td>\n",
    "    <td><center>Note that if transfer learning technique was not used, it would be necessary to 'learn' 15,337,793 parameters. However, by using the technique, it reduces to just 623,105.</center></td>\n",
    "</tr>\n",
    "</table><br/><br/><br/>"
   ]
  },
  {
   "cell_type": "code",
   "execution_count": 55,
   "id": "1d2a3e83",
   "metadata": {},
   "outputs": [
    {
     "name": "stdout",
     "output_type": "stream",
     "text": [
      "Epoch 1/14\n",
      "333/333 [==============================] - 53s 150ms/step - loss: 0.3560 - accuracy: 0.8432 - val_loss: 0.2889 - val_accuracy: 0.8839\n",
      "Epoch 2/14\n",
      "333/333 [==============================] - 49s 146ms/step - loss: 0.2822 - accuracy: 0.8833 - val_loss: 0.2788 - val_accuracy: 0.8820\n",
      "Epoch 3/14\n",
      "333/333 [==============================] - 49s 148ms/step - loss: 0.2591 - accuracy: 0.8960 - val_loss: 0.2716 - val_accuracy: 0.8869\n",
      "Epoch 4/14\n",
      "333/333 [==============================] - 54s 162ms/step - loss: 0.2575 - accuracy: 0.8962 - val_loss: 0.2729 - val_accuracy: 0.8888\n",
      "Epoch 5/14\n",
      "333/333 [==============================] - 56s 168ms/step - loss: 0.2324 - accuracy: 0.9096 - val_loss: 0.3105 - val_accuracy: 0.8655\n",
      "Epoch 6/14\n",
      "333/333 [==============================] - 55s 166ms/step - loss: 0.2317 - accuracy: 0.9096 - val_loss: 0.2768 - val_accuracy: 0.8858\n",
      "Epoch 7/14\n",
      "333/333 [==============================] - 57s 171ms/step - loss: 0.2114 - accuracy: 0.9165 - val_loss: 0.2850 - val_accuracy: 0.8869\n",
      "Epoch 8/14\n",
      "333/333 [==============================] - 58s 175ms/step - loss: 0.2047 - accuracy: 0.9193 - val_loss: 0.2733 - val_accuracy: 0.8899\n",
      "Epoch 9/14\n",
      "333/333 [==============================] - 59s 179ms/step - loss: 0.1944 - accuracy: 0.9230 - val_loss: 0.2772 - val_accuracy: 0.8926\n",
      "Epoch 10/14\n",
      "333/333 [==============================] - 60s 181ms/step - loss: 0.2013 - accuracy: 0.9183 - val_loss: 0.2684 - val_accuracy: 0.8929\n",
      "Epoch 11/14\n",
      "333/333 [==============================] - 58s 173ms/step - loss: 0.1728 - accuracy: 0.9313 - val_loss: 0.2816 - val_accuracy: 0.8937\n",
      "Epoch 12/14\n",
      "333/333 [==============================] - 58s 175ms/step - loss: 0.1751 - accuracy: 0.9303 - val_loss: 0.3300 - val_accuracy: 0.8941\n",
      "Epoch 13/14\n",
      "333/333 [==============================] - 58s 173ms/step - loss: 0.1699 - accuracy: 0.9303 - val_loss: 0.2932 - val_accuracy: 0.8896\n",
      "Epoch 14/14\n",
      "333/333 [==============================] - 59s 177ms/step - loss: 0.1569 - accuracy: 0.9367 - val_loss: 0.2800 - val_accuracy: 0.8914\n"
     ]
    }
   ],
   "source": [
    "from tensorflow.keras.optimizers import Adam\n",
    "opt = Adam(learning_rate=0.001)\n",
    "model.compile(loss='binary_crossentropy', optimizer=opt, metrics=['accuracy'])\n",
    "history = model.fit(x_treino, y_treino, epochs=14, batch_size=32, validation_data=(x_teste, y_teste), callbacks=[early_stopping_cb])"
   ]
  },
  {
   "cell_type": "markdown",
   "id": "2dd51ae2",
   "metadata": {},
   "source": [
    "### 3.3 - OPTIMIZERS\n",
    "<table align=\"left\" class=\"dashed-box\">\n",
    "<tr>\n",
    "    <td>💡</td>\n",
    "    <td><center>Optimizers play a pivotal role in the training of neural networks, significantly impacting their convergence speed and final performance. These algorithms determine how the neural network adjusts its internal parameters during training to minimize the loss function.\n",
    "\n",
    "One of the most widely used optimizers is the Adam optimizer. Adam, short for Adaptive Moment Estimation, combines the benefits of two other popular optimizers, RMSprop and Momentum. It employs adaptive learning rates for each parameter, which means it automatically adjusts the learning rates throughout the training process. This adaptability makes Adam particularly effective in handling a wide range of neural network architectures and tasks.\n",
    "\n",
    "Adam calculates exponentially weighted moving averages of past gradients and their squared values to adaptively adjust the learning rates. This helps the optimizer converge quickly during the initial stages of training and then fine-tune the learning rates as it approaches convergence. As a result, Adam often achieves faster convergence and better optimization performance compared to many other optimizers.\n",
    "\n",
    "In summary, optimizers are crucial for training neural networks efficiently, and Adam, with its adaptive learning rates and combination of effective techniques, has become a valuable tool in the deep learning community for a wide variety of tasks.</center></td>\n",
    "</tr>\n",
    "</table><br/><br/><br/>"
   ]
  },
  {
   "cell_type": "code",
   "execution_count": 56,
   "id": "90024ad4",
   "metadata": {},
   "outputs": [],
   "source": [
    "# history_df.to_csv('history_df_NOVO.csv', index=False)"
   ]
  },
  {
   "cell_type": "code",
   "execution_count": 57,
   "id": "22eca5ad",
   "metadata": {},
   "outputs": [
    {
     "data": {
      "text/plain": [
       "Text(0, 0.5, 'Accuracy')"
      ]
     },
     "execution_count": 57,
     "metadata": {},
     "output_type": "execute_result"
    },
    {
     "data": {
      "image/png": "[encoded data removed]",
      "text/plain": [
       "<Figure size 1080x360 with 2 Axes>"
      ]
     },
     "metadata": {
      "needs_background": "light"
     },
     "output_type": "display_data"
    }
   ],
   "source": [
    "import pandas as pd\n",
    "import matplotlib.pyplot as plt\n",
    "\n",
    "history_df = pd.DataFrame(history.history)\n",
    "fig, axes = plt.subplots(1, 2, figsize=(15, 5))\n",
    "fig.suptitle('Desempenho da CNN1', size=15)\n",
    "\n",
    "axes[0].plot(history_df[['loss', 'val_loss']])\n",
    "axes[0].set_title(\"Loss during training\")\n",
    "axes[0].set_xlabel(\"Number of iterations\")\n",
    "axes[0].set_ylabel(\"Loss\")\n",
    "\n",
    "axes[1].plot(history_df[['accuracy', 'val_accuracy']])\n",
    "axes[1].set_title(\"Accuracy during training\")\n",
    "axes[1].set_xlabel(\"Number of iterations\")\n",
    "axes[1].set_ylabel(\"Accuracy\")"
   ]
  },
  {
   "cell_type": "code",
   "execution_count": null,
   "id": "4086c6c3",
   "metadata": {},
   "outputs": [],
   "source": [
    "# from tensorflow.keras import Sequential\n",
    "# from tensorflow.keras.layers import Dense, Conv2D, MaxPool2D, Flatten, Dropout\n",
    "\n",
    "# def build_cnn(input_shape, n_classes):\n",
    "#     model = Sequential([\n",
    "#         Conv2D(filters=64, kernel_size=(4,4), input_shape=input_shape, activation='relu'),\n",
    "#         MaxPool2D(pool_size=(2,2)),\n",
    "#         Dropout(0.5),\n",
    "#         Conv2D(filters=64, kernel_size=(4,4), input_shape=input_shape, activation='relu'),\n",
    "#         MaxPool2D(pool_size=(2,2)),\n",
    "#         Dropout(0.2),\n",
    "\n",
    "#         Flatten(),\n",
    "\n",
    "#         Dense(32, activation='relu'),\n",
    "#         #Dense(256, activation='relu'),\n",
    "\n",
    "        \n",
    "#         Dense(n_classes, activation='sigmoid')\n",
    "#     ])\n",
    "    \n",
    "#     return model"
   ]
  },
  {
   "cell_type": "code",
   "execution_count": null,
   "id": "03c22563",
   "metadata": {},
   "outputs": [],
   "source": [
    "# x_treino.shape"
   ]
  },
  {
   "cell_type": "code",
   "execution_count": null,
   "id": "202ad931",
   "metadata": {},
   "outputs": [],
   "source": [
    "# input_shape = (100, 100, 3)\n",
    "# n_classes = 1\n",
    "# model = build_cnn(input_shape, n_classes)\n",
    "# opt = tf.keras.optimizers.SGD(learning_rate=0.01)\n",
    "# model.compile(loss='binary_crossentropy', optimizer=opt, metrics=['accuracy'])"
   ]
  },
  {
   "cell_type": "code",
   "execution_count": null,
   "id": "878d6866",
   "metadata": {},
   "outputs": [],
   "source": [
    "# history2 = model.fit(x_treino, y_treino, epochs=100, batch_size=32, validation_data=(x_teste, y_teste), callbacks=[early_stopping_cb])"
   ]
  },
  {
   "cell_type": "code",
   "execution_count": null,
   "id": "c44d10bb",
   "metadata": {},
   "outputs": [],
   "source": [
    "# import pandas as pd\n",
    "# import matplotlib.pyplot as plt\n",
    "\n",
    "# history_df = pd.DataFrame(history2.history)\n",
    "# fig, axes = plt.subplots(1, 2, figsize=(15, 5))\n",
    "# fig.suptitle('Desempenho da CNN1', size=15)\n",
    "\n",
    "# axes[0].plot(history_df[['loss', 'val_loss']])\n",
    "# axes[0].set_title(\"Loss during training\")\n",
    "# axes[0].set_xlabel(\"Number of iterations\")\n",
    "# axes[0].set_ylabel(\"Loss\")\n",
    "\n",
    "# axes[1].plot(history_df[['accuracy', 'val_accuracy']])\n",
    "# axes[1].set_title(\"Accuracy during training\")\n",
    "# axes[1].set_xlabel(\"Number of iterations\")\n",
    "# axes[1].set_ylabel(\"Accuracy\")"
   ]
  },
  {
   "cell_type": "code",
   "execution_count": null,
   "id": "0ae3a670",
   "metadata": {},
   "outputs": [],
   "source": [
    "# #convertendo os valores:\n",
    "# x_treino_float = X_train.astype('float')\n",
    "# x_teste_float = X_test.astype('float')\n",
    "\n",
    "# #normalizado:\n",
    "# x_treino_normalizado = x_treino_float/255\n",
    "# x_teste_normalizado = x_teste_float/255"
   ]
  },
  {
   "cell_type": "code",
   "execution_count": null,
   "id": "c6b727e1",
   "metadata": {},
   "outputs": [],
   "source": [
    "# plt.imshow(x_treino_float[2])"
   ]
  },
  {
   "cell_type": "code",
   "execution_count": null,
   "id": "a0597df9",
   "metadata": {},
   "outputs": [],
   "source": [
    "# from keras.preprocessing.image import ImageDataGenerator\n",
    "# aug_data = ImageDataGenerator(width_shift_range=0.1, height_shift_range=0.1, horizontal_flip=True)\n",
    "# treino_aumentado = aug_data.flow(x_treino_float, y_train, batch_size=200)\n",
    "# model.compile(optimizer='adam', loss = 'binary_crossentropy', metrics = ['accuracy'] )\n",
    "# n_passadas = int(x_treino_normalizado.shape[0]/200)\n",
    "# historico = model.fit_generator(treino_aumentado, steps_per_epoch=n_passadas, epochs=10, validation_data=(x_teste_float, y_test))"
   ]
  },
  {
   "cell_type": "code",
   "execution_count": null,
   "id": "cba924a7",
   "metadata": {},
   "outputs": [],
   "source": [
    "# history = model.fit(X_train[0:5000], y_train[0:5000], epochs=100, batch_size=32, validation_data=(X_test, y_test), callbacks=[early_stopping_cb])"
   ]
  },
  {
   "cell_type": "code",
   "execution_count": null,
   "id": "71880006",
   "metadata": {},
   "outputs": [],
   "source": [
    "# import pandas as pd\n",
    "# import matplotlib.pyplot as plt\n",
    "\n",
    "# history_df_1 = pd.DataFrame(history.history)"
   ]
  },
  {
   "cell_type": "code",
   "execution_count": null,
   "id": "ad7ac735",
   "metadata": {},
   "outputs": [],
   "source": [
    "# fig, axes = plt.subplots(1, 2, figsize=(15, 5))\n",
    "# fig.suptitle('Desempenho da CNN1', size=15)\n",
    "\n",
    "# axes[0].plot(history_df_1[['loss', 'val_loss']])\n",
    "# axes[0].set_title(\"Loss during training\")\n",
    "# axes[0].set_xlabel(\"Number of iterations\")\n",
    "# axes[0].set_ylabel(\"Loss\")\n",
    "\n",
    "# axes[1].plot(history_df_1[['accuracy', 'val_accuracy']])\n",
    "# axes[1].set_title(\"Accuracy during training\")\n",
    "# axes[1].set_xlabel(\"Number of iterations\")\n",
    "# axes[1].set_ylabel(\"Accuracy\")"
   ]
  },
  {
   "cell_type": "code",
   "execution_count": null,
   "id": "e7a7f31d",
   "metadata": {},
   "outputs": [],
   "source": [
    "# from tensorflow.keras import Sequential\n",
    "# from tensorflow.keras.layers import Dense, Conv2D, MaxPool2D, Flatten, Dropout\n",
    "\n",
    "# def build_cnn2(input_shape, n_classes):\n",
    "#     model = Sequential([\n",
    "#         Conv2D(filters=32, kernel_size=(4,4), input_shape=input_shape, activation='relu'),\n",
    "#         MaxPool2D(pool_size=(2,2)),\n",
    "#         Dropout(0.4),\n",
    "#         Conv2D(filters=32, kernel_size=(4,4), activation='relu'),\n",
    "#         MaxPool2D(pool_size=(2,2)),\n",
    "#         Dropout(0.4),\n",
    "#         Conv2D(filters=32, kernel_size=(4,4), input_shape=input_shape, activation='relu'),\n",
    "#         MaxPool2D(pool_size=(2,2)),\n",
    "        \n",
    "        \n",
    "\n",
    "#         Flatten(),\n",
    "\n",
    "#         Dense(64, activation='relu'),\n",
    "#         #Dense(256, activation='relu'),\n",
    "\n",
    "        \n",
    "#         Dense(n_classes, activation='softmax')\n",
    "#     ])\n",
    "    \n",
    "#     return model"
   ]
  },
  {
   "cell_type": "code",
   "execution_count": null,
   "id": "01f9507e",
   "metadata": {},
   "outputs": [],
   "source": [
    "# input_shape = (60, 100, 3)\n",
    "# n_classes = 3\n",
    "# model = build_cnn2(input_shape, n_classes)\n",
    "# opt = tf.keras.optimizers.SGD(learning_rate=0.01)\n",
    "# model.compile(loss='sparse_categorical_crossentropy', optimizer=opt, metrics=['accuracy'])"
   ]
  },
  {
   "cell_type": "code",
   "execution_count": null,
   "id": "bd9d9292",
   "metadata": {},
   "outputs": [],
   "source": [
    "# history = model.fit(X_train[0:30000], y_train[0:30000], epochs=100, batch_size=32, validation_data=(X_test[0:40000], y_test[0:40000]), callbacks=[early_stopping_cb])"
   ]
  },
  {
   "cell_type": "code",
   "execution_count": null,
   "id": "35e305f6",
   "metadata": {},
   "outputs": [],
   "source": [
    "# import pandas as pd\n",
    "# import matplotlib.pyplot as plt\n",
    "\n",
    "# history_df_2 = pd.DataFrame(history.history)\n",
    "\n",
    "# fig, axes = plt.subplots(1, 2, figsize=(15, 5))\n",
    "# fig.suptitle('Desempenho da CNN1', size=15)\n",
    "\n",
    "# axes[0].plot(history_df_2[['loss', 'val_loss']])\n",
    "# axes[0].set_title(\"Loss during training\")\n",
    "# axes[0].set_xlabel(\"Number of iterations\")\n",
    "# axes[0].set_ylabel(\"Loss\")\n",
    "\n",
    "# axes[1].plot(history_df_2[['accuracy', 'val_accuracy']])\n",
    "# axes[1].set_title(\"Accuracy during training\")\n",
    "# axes[1].set_xlabel(\"Number of iterations\")\n",
    "# axes[1].set_ylabel(\"Accuracy\")"
   ]
  },
  {
   "cell_type": "code",
   "execution_count": null,
   "id": "848657e1",
   "metadata": {},
   "outputs": [],
   "source": [
    "# from tensorflow.keras import Sequential\n",
    "# from tensorflow.keras.layers import Dense, Conv2D, MaxPool2D, Flatten, Dropout\n",
    "\n",
    "# def build_cnn3(input_shape, n_classes):\n",
    "#     model = Sequential([\n",
    "#         Conv2D(filters=32, kernel_size=(4,4), input_shape=input_shape, activation='relu'),\n",
    "#         MaxPool2D(pool_size=(2,2)),\n",
    "#         Dropout(0.4),\n",
    "#         Conv2D(filters=32, kernel_size=(4,4), activation='relu'),\n",
    "#         MaxPool2D(pool_size=(2,2)),\n",
    "#         Conv2D(filters=32, kernel_size=(4,4), input_shape=input_shape, activation='relu'),\n",
    "#         MaxPool2D(pool_size=(2,2)),\n",
    "        \n",
    "        \n",
    "\n",
    "#         Flatten(),\n",
    "\n",
    "#         Dense(64, activation='relu'),\n",
    "#         #Dense(256, activation='relu'),\n",
    "\n",
    "        \n",
    "#         Dense(n_classes, activation='softmax')\n",
    "#     ])\n",
    "    \n",
    "#     return model"
   ]
  },
  {
   "cell_type": "code",
   "execution_count": null,
   "id": "2eff815d",
   "metadata": {},
   "outputs": [],
   "source": [
    "# input_shape = (60, 100, 3)\n",
    "# n_classes = 3\n",
    "# model = build_cnn3(input_shape, n_classes)\n",
    "# opt = tf.keras.optimizers.SGD(learning_rate=0.01)\n",
    "# model.compile(loss='sparse_categorical_crossentropy', optimizer=opt, metrics=['accuracy'])"
   ]
  },
  {
   "cell_type": "code",
   "execution_count": null,
   "id": "58356e33",
   "metadata": {},
   "outputs": [],
   "source": [
    "# history = model.fit(X_train[0:30000], y_train[0:30000], epochs=100, batch_size=32, validation_data=(X_test[0:30000], y_test[0:30000]), callbacks=[early_stopping_cb])"
   ]
  },
  {
   "cell_type": "code",
   "execution_count": null,
   "id": "3eeacf53",
   "metadata": {},
   "outputs": [],
   "source": [
    "# from tensorflow.keras import Sequential\n",
    "# from tensorflow.keras.layers import Dense, Conv2D, MaxPool2D, Flatten, Dropout\n",
    "\n",
    "# def build_cnn4(input_shape, n_classes):\n",
    "#     model = Sequential([\n",
    "#         Conv2D(filters=64, kernel_size=(6,6), input_shape=input_shape, activation='relu'),\n",
    "#         MaxPool2D(pool_size=(2,2)),\n",
    "#         Dropout(0.4),\n",
    "#         Conv2D(filters=64, kernel_size=(6,6), activation='relu'),\n",
    "#         MaxPool2D(pool_size=(2, 2)),\n",
    "#         Dropout(0.4),\n",
    "#         Conv2D(filters=64, kernel_size=(6,6), input_shape=input_shape, activation='relu'),\n",
    "#         MaxPool2D(pool_size=(2,2)),\n",
    "        \n",
    "        \n",
    "\n",
    "#         Flatten(),\n",
    "\n",
    "#         Dense(64, activation='relu'),\n",
    "#         Dense(64, activation='relu'),\n",
    "#         Dense(64, activation='relu'),\n",
    "#         #Dense(256, activation='relu'),\n",
    "\n",
    "        \n",
    "#         Dense(n_classes, activation='softmax')\n",
    "#     ])\n",
    "    \n",
    "#     return model"
   ]
  },
  {
   "cell_type": "code",
   "execution_count": null,
   "id": "2dd73ce1",
   "metadata": {},
   "outputs": [],
   "source": [
    "# input_shape = (60, 100, 3)\n",
    "# n_classes = 3\n",
    "# model = build_cnn4(input_shape, n_classes)\n",
    "# opt = tf.keras.optimizers.SGD(learning_rate=0.01)\n",
    "# model.compile(loss='sparse_categorical_crossentropy', optimizer=opt, metrics=['accuracy'])"
   ]
  },
  {
   "cell_type": "code",
   "execution_count": null,
   "id": "c5b9c638",
   "metadata": {},
   "outputs": [],
   "source": [
    "# history = model.fit(X_train[0:28000], y_train[0:28000], epochs=100, batch_size=32, validation_data=(X_test[0:12000], y_test[0:12000]), callbacks=[early_stopping_cb])"
   ]
  },
  {
   "cell_type": "code",
   "execution_count": null,
   "id": "6538707e",
   "metadata": {},
   "outputs": [],
   "source": [
    "# import pandas as pd\n",
    "# import matplotlib.pyplot as plt\n",
    "\n",
    "# history_df_3 = pd.DataFrame(history.history)\n",
    "\n",
    "# fig, axes = plt.subplots(1, 2, figsize=(15, 5))\n",
    "# fig.suptitle('Desempenho da CNN1', size=15)\n",
    "\n",
    "# axes[0].plot(history_df_3[['loss', 'val_loss']])\n",
    "# axes[0].set_title(\"Loss during training\")\n",
    "# axes[0].set_xlabel(\"Number of iterations\")\n",
    "# axes[0].set_ylabel(\"Loss\")\n",
    "\n",
    "# axes[1].plot(history_df_3[['accuracy', 'val_accuracy']])\n",
    "# axes[1].set_title(\"Accuracy during training\")\n",
    "# axes[1].set_xlabel(\"Number of iterations\")\n",
    "# axes[1].set_ylabel(\"Accuracy\")"
   ]
  },
  {
   "cell_type": "code",
   "execution_count": null,
   "id": "9c07f2d4",
   "metadata": {},
   "outputs": [],
   "source": [
    "# from tensorflow.keras import Sequential\n",
    "# from tensorflow.keras.layers import Dense, Conv2D, MaxPool2D, Flatten, Dropout\n",
    "\n",
    "# def build_cnn5(input_shape, n_classes):\n",
    "#     model = Sequential([\n",
    "#         Conv2D(filters=64, kernel_size=(6,6), input_shape=input_shape, activation='relu'),\n",
    "#         MaxPool2D(pool_size=(2,2)),\n",
    "#         Dropout(0.5),\n",
    "#         Conv2D(filters=64, kernel_size=(6,6), activation='relu'),\n",
    "#         MaxPool2D(pool_size=(2, 2)),\n",
    "#         Dropout(0.5),\n",
    "#         Conv2D(filters=64, kernel_size=(6,6), input_shape=input_shape, activation='relu'),\n",
    "#         MaxPool2D(pool_size=(2,2)),\n",
    "        \n",
    "        \n",
    "\n",
    "#         Flatten(),\n",
    "\n",
    "#         Dense(64, activation='relu'),\n",
    "#         Dense(32, activation='relu'),\n",
    "#         Dense(32, activation='relu'),\n",
    "#         #Dense(256, activation='relu'),\n",
    "\n",
    "        \n",
    "#         Dense(n_classes, activation='softmax')\n",
    "#     ])\n",
    "    \n",
    "#     return model"
   ]
  },
  {
   "cell_type": "code",
   "execution_count": null,
   "id": "a3c96508",
   "metadata": {},
   "outputs": [],
   "source": [
    "# input_shape = (60, 100, 3)\n",
    "# n_classes = 3\n",
    "# model = build_cnn5(input_shape, n_classes)\n",
    "# opt = tf.keras.optimizers.SGD(learning_rate=0.01)\n",
    "# model.compile(loss='sparse_categorical_crossentropy', optimizer=opt, metrics=['accuracy'])"
   ]
  },
  {
   "cell_type": "code",
   "execution_count": null,
   "id": "3549d69e",
   "metadata": {},
   "outputs": [],
   "source": [
    "# history = model.fit(X_train[28000:56000], y_train[28000:56000], epochs=100, batch_size=32, validation_data=(X_test[5000:12000], y_test[5000:12000]), callbacks=[early_stopping_cb])"
   ]
  },
  {
   "cell_type": "code",
   "execution_count": null,
   "id": "969ad46f",
   "metadata": {},
   "outputs": [],
   "source": [
    "# from keras.models import Sequential\n",
    "# from keras.layers import Dense, Dropout, Conv2D, Flatten, MaxPooling2D\n",
    "\n",
    "# modelo=Sequential()\n",
    "# modelo.add(Conv2D(filters=32, kernel_size = 5, activation = 'relu', input_shape=(60, 100,3)))\n",
    "# modelo.add(MaxPooling2D(pool_size=(2,2), strides=None, padding= 'same'))#valid = nao quer usar; qdo quer ativar 'same\"\n",
    "# modelo.add(Conv2D(filters=64, kernel_size = 5, activation = 'relu', input_shape=(60, 100,3)))\n",
    "# modelo.add(MaxPooling2D(pool_size=(2,2), strides=None, padding= 'same'))\n",
    "# modelo.add(Flatten())#como se cada matriz ficasse uma ao lado da outra, uma dimensao\n",
    "# modelo.add(Dense(80, kernel_initializer='glorot_uniform', activation='relu'))\n",
    "# modelo.add(Dropout(0.2))\n",
    "# modelo.add(Dense(3, kernel_initializer='glorot_uniform', activation='softmax'))"
   ]
  },
  {
   "cell_type": "code",
   "execution_count": null,
   "id": "8ec1e7ac",
   "metadata": {},
   "outputs": [],
   "source": [
    "# modelo.compile(optimizer='adam', loss='sparse_categorical_crossentropy', metrics=['accuracy'])"
   ]
  },
  {
   "cell_type": "code",
   "execution_count": null,
   "id": "03ae7eaa",
   "metadata": {},
   "outputs": [],
   "source": [
    "# history = modelo.fit(X_train[0:28000], y_train[0:28000], epochs=100, batch_size=32, validation_data=(X_test[0:12000], y_test[0:12000]), callbacks=[early_stopping_cb])"
   ]
  },
  {
   "cell_type": "markdown",
   "id": "3b70e938",
   "metadata": {},
   "source": [
    "### 4.0 - Testing"
   ]
  },
  {
   "cell_type": "code",
   "execution_count": 58,
   "id": "80310a09",
   "metadata": {},
   "outputs": [
    {
     "name": "stdout",
     "output_type": "stream",
     "text": [
      "84/84 [==============================] - 10s 115ms/step - loss: 0.2800 - accuracy: 0.8914\n"
     ]
    },
    {
     "data": {
      "text/plain": [
       "[0.2800480127334595, 0.8914350271224976]"
      ]
     },
     "execution_count": 58,
     "metadata": {},
     "output_type": "execute_result"
    }
   ],
   "source": [
    "from tensorflow import keras\n",
    "# model = keras.models.load_model(r'C:\\Users\\PC\\Desktop\\Redes_Neurais_LUMIOS\\modelo_rede_neural_lumios_NOVO')\n",
    "model.evaluate(x_teste, y_teste)"
   ]
  },
  {
   "cell_type": "code",
   "execution_count": 59,
   "id": "03e74582",
   "metadata": {},
   "outputs": [
    {
     "name": "stdout",
     "output_type": "stream",
     "text": [
      "84/84 [==============================] - 10s 118ms/step\n"
     ]
    },
    {
     "data": {
      "text/plain": [
       "array([[0.02091111],\n",
       "       [0.01688829],\n",
       "       [0.00411539],\n",
       "       ...,\n",
       "       [0.06439591],\n",
       "       [0.4576742 ],\n",
       "       [0.9936511 ]], dtype=float32)"
      ]
     },
     "execution_count": 59,
     "metadata": {},
     "output_type": "execute_result"
    }
   ],
   "source": [
    "y_test_proba = model.predict(x_teste)\n",
    "y_test_proba"
   ]
  },
  {
   "cell_type": "code",
   "execution_count": 73,
   "id": "d28367ef",
   "metadata": {},
   "outputs": [],
   "source": [
    "y_test_pred = []\n",
    "for i in y_test_proba:\n",
    "    if i > 0.5:\n",
    "        a = 1\n",
    "    else:\n",
    "        a=0\n",
    "    y_test_pred.append(a)"
   ]
  },
  {
   "cell_type": "code",
   "execution_count": 74,
   "id": "2b166b45",
   "metadata": {},
   "outputs": [],
   "source": [
    "# y_test_pred"
   ]
  },
  {
   "cell_type": "code",
   "execution_count": 75,
   "id": "3572b0fb",
   "metadata": {},
   "outputs": [
    {
     "name": "stdout",
     "output_type": "stream",
     "text": [
      "              precision    recall  f1-score   support\n",
      "\n",
      "         0.0       0.92      0.87      0.89      1353\n",
      "         1.0       0.87      0.92      0.89      1309\n",
      "\n",
      "    accuracy                           0.89      2662\n",
      "   macro avg       0.89      0.89      0.89      2662\n",
      "weighted avg       0.89      0.89      0.89      2662\n",
      "\n"
     ]
    }
   ],
   "source": [
    "from sklearn.metrics import classification_report\n",
    "\n",
    "class_names = label_encoder.classes_\n",
    "\n",
    "print(classification_report(y_teste, y_test_pred))"
   ]
  },
  {
   "cell_type": "code",
   "execution_count": 76,
   "id": "6e6a80f5",
   "metadata": {},
   "outputs": [],
   "source": [
    "data = pd.DataFrame()"
   ]
  },
  {
   "cell_type": "markdown",
   "id": "dc7e3ae9",
   "metadata": {},
   "source": [
    "### 4.1 - Confusion Matrix ⊹"
   ]
  },
  {
   "cell_type": "code",
   "execution_count": 77,
   "id": "ae8149c9",
   "metadata": {},
   "outputs": [
    {
     "name": "stdout",
     "output_type": "stream",
     "text": [
      "Classification report:\n",
      "              precision    recall  f1-score   support\n",
      "\n",
      "         0.0     0.9156    0.8662    0.8902      1353\n",
      "         1.0     0.8690    0.9175    0.8926      1309\n",
      "\n",
      "    accuracy                         0.8914      2662\n",
      "   macro avg     0.8923    0.8919    0.8914      2662\n",
      "weighted avg     0.8927    0.8914    0.8914      2662\n",
      "\n",
      "Confusion matrix:\n"
     ]
    },
    {
     "data": {
      "text/plain": [
       "<sklearn.metrics._plot.confusion_matrix.ConfusionMatrixDisplay at 0x36e5a3370>"
      ]
     },
     "execution_count": 77,
     "metadata": {},
     "output_type": "execute_result"
    },
    {
     "data": {
      "image/png": "[encoded data removed]",
      "text/plain": [
       "<Figure size 432x288 with 2 Axes>"
      ]
     },
     "metadata": {
      "needs_background": "light"
     },
     "output_type": "display_data"
    }
   ],
   "source": [
    "from sklearn.metrics import ConfusionMatrixDisplay\n",
    "from sklearn.metrics import confusion_matrix\n",
    "confusion_rf = confusion_matrix(y_teste, y_test_pred)\n",
    "disp_rf = ConfusionMatrixDisplay(confusion_matrix=confusion_rf, display_labels=['Drug', 'NP'])\n",
    "# Avaliação da qualidade do modelo\n",
    "\n",
    "print(\"Classification report:\")\n",
    "print(classification_report(y_teste, y_test_pred, digits=4))\n",
    "\n",
    "print(\"Confusion matrix:\")\n",
    "disp_rf.plot()"
   ]
  },
  {
   "cell_type": "markdown",
   "id": "685b59c7",
   "metadata": {},
   "source": [
    "### Insights \n",
    "<table align=\"left\" class=\"dashed-box\">\n",
    "<tr>\n",
    "    <td>💡</td>\n",
    "    <td><center>From the analysis of the confusion matrix, it is evident that there are 108 natural product molecules that were classified as having drug-like patterns. Since the natural product class was considered class 1 (positive), and the drug class was class 0 (negative), these 108 molecules belong to the category of false negatives.</center></td>\n",
    "</tr>\n",
    "</table><br/><br/><br/>"
   ]
  },
  {
   "cell_type": "code",
   "execution_count": 78,
   "id": "97eccd71",
   "metadata": {},
   "outputs": [],
   "source": [
    "# pd.DataFrame(y_teste).value_counts()"
   ]
  },
  {
   "cell_type": "code",
   "execution_count": 79,
   "id": "d51c49b3",
   "metadata": {},
   "outputs": [],
   "source": [
    "# y_teste.value_counts()"
   ]
  },
  {
   "cell_type": "code",
   "execution_count": 80,
   "id": "229f0e57",
   "metadata": {},
   "outputs": [],
   "source": [
    "import pandas as pd\n",
    "y_teste = pd.DataFrame(y_teste)"
   ]
  },
  {
   "cell_type": "code",
   "execution_count": 81,
   "id": "136f3c80",
   "metadata": {},
   "outputs": [
    {
     "data": {
      "text/plain": [
       "True"
      ]
     },
     "execution_count": 81,
     "metadata": {},
     "output_type": "execute_result"
    }
   ],
   "source": [
    "y_teste[0].iloc[0] ==0"
   ]
  },
  {
   "cell_type": "code",
   "execution_count": 82,
   "id": "fd544edc",
   "metadata": {},
   "outputs": [
    {
     "data": {
      "text/plain": [
       "0"
      ]
     },
     "execution_count": 82,
     "metadata": {},
     "output_type": "execute_result"
    }
   ],
   "source": [
    "y_test_pred[0]"
   ]
  },
  {
   "cell_type": "markdown",
   "id": "23f06cb0",
   "metadata": {},
   "source": [
    "<table align=\"left\" class=\"dashed-box\">\n",
    "<tr>\n",
    "    <td>💡</td>\n",
    "    <td><center>It is possible to identify which molecules belong to this class by identifying their indices, allowing for a more targeted analysis of these molecules sequentially.</center></td>\n",
    "</tr>\n",
    "</table><br/><br/><br/>\n"
   ]
  },
  {
   "cell_type": "code",
   "execution_count": 83,
   "id": "ab7dd35d",
   "metadata": {},
   "outputs": [
    {
     "name": "stdout",
     "output_type": "stream",
     "text": [
      "[20, 25, 40, 52, 65, 82, 84, 102, 135, 154, 157, 165, 184, 186, 187, 219, 238, 247, 255, 269, 278, 288, 289, 292, 299, 306, 319, 338, 339, 391, 398, 412, 420, 423, 464, 470, 475, 537, 582, 608, 609, 629, 643, 656, 667, 670, 678, 764, 858, 861, 864, 867, 878, 910, 919, 921, 926, 937, 975, 988, 1017, 1057, 1090, 1121, 1136, 1148, 1193, 1200, 1224, 1229, 1232, 1239, 1244, 1262, 1280, 1282, 1304, 1351, 1356, 1417, 1436, 1447, 1454, 1456, 1473, 1499, 1503, 1509, 1517, 1520, 1527, 1533, 1565, 1573, 1611, 1616, 1627, 1663, 1667, 1669, 1691, 1692, 1716, 1717, 1721, 1733, 1741, 1752, 1793, 1795, 1810, 1820, 1823, 1829, 1841, 1859, 1882, 1903, 1906, 1937, 1968, 1975, 1983, 1992, 1996, 2001, 2010, 2020, 2023, 2031, 2032, 2034, 2044, 2072, 2099, 2106, 2118, 2122, 2162, 2176, 2177, 2181, 2206, 2224, 2225, 2236, 2255, 2262, 2272, 2279, 2282, 2330, 2331, 2348, 2353, 2356, 2364, 2367, 2371, 2374, 2401, 2405, 2409, 2438, 2450, 2472, 2497, 2499, 2510, 2529, 2533, 2550, 2591, 2601, 2603, 2611, 2627, 2631, 2647, 2649, 2652]\n"
     ]
    }
   ],
   "source": [
    "indexes = []\n",
    "for i in range(len(y_teste)):\n",
    "    if (y_teste[0].iloc[i] == 0) and (y_test_pred[i] == 1):\n",
    "        indexes.append(y_teste.index[i])\n",
    "print(indexes)"
   ]
  },
  {
   "cell_type": "code",
   "execution_count": 84,
   "id": "75fb8cf6",
   "metadata": {},
   "outputs": [
    {
     "data": {
      "text/plain": [
       "181"
      ]
     },
     "execution_count": 84,
     "metadata": {},
     "output_type": "execute_result"
    }
   ],
   "source": [
    "len(indexes)"
   ]
  },
  {
   "cell_type": "markdown",
   "id": "2ad5aaa8",
   "metadata": {},
   "source": [
    "### 5.0 - Saving the model ✅"
   ]
  },
  {
   "cell_type": "code",
   "execution_count": 89,
   "id": "73b2e9dd",
   "metadata": {},
   "outputs": [
    {
     "name": "stderr",
     "output_type": "stream",
     "text": [
      "WARNING:absl:Found untraced functions such as _jit_compiled_convolution_op, _jit_compiled_convolution_op, _jit_compiled_convolution_op, _jit_compiled_convolution_op, _jit_compiled_convolution_op while saving (showing 5 of 13). These functions will not be directly callable after loading.\n"
     ]
    },
    {
     "name": "stdout",
     "output_type": "stream",
     "text": [
      "INFO:tensorflow:Assets written to: modelo_LUMIOS/saved_model/assets\n"
     ]
    },
    {
     "name": "stderr",
     "output_type": "stream",
     "text": [
      "INFO:tensorflow:Assets written to: modelo_LUMIOS/saved_model/assets\n"
     ]
    }
   ],
   "source": [
    "from tensorflow import keras\n",
    "\n",
    "# Suponha que 'modelo' é o seu modelo Keras\n",
    "model.save('modelo_LUMIOS/saved_model')"
   ]
  },
  {
   "cell_type": "markdown",
   "id": "c08954cf",
   "metadata": {},
   "source": [
    "### 5.1 - Loading model"
   ]
  },
  {
   "cell_type": "code",
   "execution_count": 90,
   "id": "f2dddfa3",
   "metadata": {},
   "outputs": [],
   "source": [
    "# Para carregar o modelo posteriormente:\n",
    "model_loaded = keras.models.load_model('modelo_LUMIOS/saved_model')"
   ]
  },
  {
   "cell_type": "markdown",
   "id": "f752f130",
   "metadata": {},
   "source": [
    "#### 5.2 - Testing the model"
   ]
  },
  {
   "cell_type": "code",
   "execution_count": 91,
   "id": "8cefec02",
   "metadata": {},
   "outputs": [
    {
     "name": "stdout",
     "output_type": "stream",
     "text": [
      "84/84 [==============================] - 10s 120ms/step\n"
     ]
    },
    {
     "data": {
      "text/plain": [
       "array([[0.02091111],\n",
       "       [0.01688829],\n",
       "       [0.00411539],\n",
       "       ...,\n",
       "       [0.06439591],\n",
       "       [0.4576742 ],\n",
       "       [0.9936511 ]], dtype=float32)"
      ]
     },
     "execution_count": 91,
     "metadata": {},
     "output_type": "execute_result"
    }
   ],
   "source": [
    "y_test_proba = model.predict(x_teste)\n",
    "y_test_proba"
   ]
  },
  {
   "cell_type": "code",
   "execution_count": 92,
   "id": "9b9b25c6",
   "metadata": {},
   "outputs": [],
   "source": [
    "y_test_pred = []\n",
    "for i in y_test_proba:\n",
    "    if i > 0.5:\n",
    "        a = 1\n",
    "    else:\n",
    "        a=0\n",
    "    y_test_pred.append(a)"
   ]
  },
  {
   "cell_type": "code",
   "execution_count": 93,
   "id": "5a27d277",
   "metadata": {},
   "outputs": [
    {
     "name": "stdout",
     "output_type": "stream",
     "text": [
      "              precision    recall  f1-score   support\n",
      "\n",
      "         0.0       0.92      0.87      0.89      1353\n",
      "         1.0       0.87      0.92      0.89      1309\n",
      "\n",
      "    accuracy                           0.89      2662\n",
      "   macro avg       0.89      0.89      0.89      2662\n",
      "weighted avg       0.89      0.89      0.89      2662\n",
      "\n"
     ]
    }
   ],
   "source": [
    "from sklearn.metrics import classification_report\n",
    "\n",
    "class_names = label_encoder.classes_\n",
    "\n",
    "print(classification_report(y_teste, y_test_pred))"
   ]
  }
 ],
 "metadata": {
  "kernelspec": {
   "display_name": "Python 3",
   "language": "python",
   "name": "python3"
  },
  "language_info": {
   "codemirror_mode": {
    "name": "ipython",
    "version": 3
   },
   "file_extension": ".py",
   "mimetype": "text/x-python",
   "name": "python",
   "nbconvert_exporter": "python",
   "pygments_lexer": "ipython3",
   "version": "3.9.15"
  }
 },
 "nbformat": 4,
 "nbformat_minor": 5
}

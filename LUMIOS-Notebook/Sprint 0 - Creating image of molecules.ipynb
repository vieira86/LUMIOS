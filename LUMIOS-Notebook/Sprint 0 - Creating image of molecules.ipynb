{
 "cells": [
  {
   "cell_type": "markdown",
   "id": "f6b03bb3",
   "metadata": {},
   "source": [
    "<div align=\"center\">\n",
    "    <h1> 🎯 LUMIOS 🎯</h1>\n",
    "    <h3>Label Using Machine In Organic Samples</h3>\n",
    "</div>\n"
   ]
  },
  {
   "cell_type": "markdown",
   "id": "bdf21b25",
   "metadata": {},
   "source": [
    "\n",
    "\n",
    "## Notebook Introduction ✍️\n",
    "\n",
    "This notebook presents the code used to transform molecules (which are in a text-based DataFrame) into images, with the aim of building a Convolutional Neural Network (CNN) for a specific application.\n",
    "\n"
   ]
  },
  {
   "cell_type": "markdown",
   "id": "e0605182",
   "metadata": {},
   "source": [
    "<table align=\"left\" class=\"dashed-box\">\n",
    "<tr>\n",
    "    <td>💡</td>\n",
    "    <td><td>The LUMIOS ARTICLE is under review by the journal <b>EXPERT SYSTEMS WITH APPLICATIONS</b>. DOI: <a href=\"http://dx.doi.org/10.2139/ssrn.4341603\">http://dx.doi.org/10.2139/ssrn.4341603</a></td>\n",
    "</td>\n",
    "</tr>\n",
    "</table><br/><br/><br>\n"
   ]
  },
  {
   "cell_type": "markdown",
   "id": "9f5f44f8",
   "metadata": {},
   "source": [
    "## About the developer: \n",
    "### 👨🏽‍🏫 RAFAEL VIEIRA \n",
    "- Professor at the Instituto Federal de Rondônia, campus de Ji-Paraná. \n",
    "\n",
    "<table align=\"left\" class=\"dashed-box\">\n",
    "<tr>\n",
    "    <td>💡</td>\n",
    "    <td><td>\"Throughout my journey, I have always sought to integrate the richness of natural chemistry with promising Artificial Intelligence techniques, such as Machine Learning and Deep Learning. From this fusion, innovative solutions and discoveries have emerged.\"</td>\n",
    "</td>\n",
    "</tr>\n",
    "</table><br/><br/><br/>"
   ]
  },
  {
   "cell_type": "markdown",
   "id": "2803a512",
   "metadata": {},
   "source": [
    "##  💾 1. Data\n",
    "#### The Dataset (Referred to as Chemical Space) Was Obtained from Two Main Platforms:\n",
    "- CORTELLIS (Where \"DRUG\" Data Was Obtained)\n",
    "- LOTUS (Natural Product Database)"
   ]
  },
  {
   "cell_type": "code",
   "execution_count": 1,
   "id": "c2601e5d",
   "metadata": {},
   "outputs": [
    {
     "data": {
      "text/html": [
       "<div>\n",
       "<style scoped>\n",
       "    .dataframe tbody tr th:only-of-type {\n",
       "        vertical-align: middle;\n",
       "    }\n",
       "\n",
       "    .dataframe tbody tr th {\n",
       "        vertical-align: top;\n",
       "    }\n",
       "\n",
       "    .dataframe thead th {\n",
       "        text-align: right;\n",
       "    }\n",
       "</style>\n",
       "<table border=\"1\" class=\"dataframe\">\n",
       "  <thead>\n",
       "    <tr style=\"text-align: right;\">\n",
       "      <th></th>\n",
       "      <th>Entry Number</th>\n",
       "      <th>smiles</th>\n",
       "      <th>type</th>\n",
       "      <th>MaxEStateIndex</th>\n",
       "      <th>MinEStateIndex</th>\n",
       "      <th>MaxAbsEStateIndex</th>\n",
       "      <th>MinAbsEStateIndex</th>\n",
       "      <th>qed</th>\n",
       "      <th>MolWt</th>\n",
       "      <th>HeavyAtomMolWt</th>\n",
       "      <th>...</th>\n",
       "      <th>fr_sulfide</th>\n",
       "      <th>fr_sulfonamd</th>\n",
       "      <th>fr_sulfone</th>\n",
       "      <th>fr_term_acetylene</th>\n",
       "      <th>fr_tetrazole</th>\n",
       "      <th>fr_thiazole</th>\n",
       "      <th>fr_thiocyan</th>\n",
       "      <th>fr_thiophene</th>\n",
       "      <th>fr_unbrch_alkane</th>\n",
       "      <th>fr_urea</th>\n",
       "    </tr>\n",
       "  </thead>\n",
       "  <tbody>\n",
       "    <tr>\n",
       "      <th>0</th>\n",
       "      <td>68765</td>\n",
       "      <td>[H]OC(=NC([H])(C([H])([H])[H])C([H])([H])OC([H...</td>\n",
       "      <td>PN</td>\n",
       "      <td>10.164502</td>\n",
       "      <td>-0.445099</td>\n",
       "      <td>10.164502</td>\n",
       "      <td>0.030833</td>\n",
       "      <td>0.212838</td>\n",
       "      <td>387.564</td>\n",
       "      <td>350.268</td>\n",
       "      <td>...</td>\n",
       "      <td>0</td>\n",
       "      <td>0</td>\n",
       "      <td>0</td>\n",
       "      <td>0</td>\n",
       "      <td>0</td>\n",
       "      <td>0</td>\n",
       "      <td>0</td>\n",
       "      <td>0</td>\n",
       "      <td>0</td>\n",
       "      <td>0</td>\n",
       "    </tr>\n",
       "    <tr>\n",
       "      <th>1</th>\n",
       "      <td>23939</td>\n",
       "      <td>[H]OC(=O)C([H])=C([H])C(=O)C([H])([H])C([H])([...</td>\n",
       "      <td>PN</td>\n",
       "      <td>11.810571</td>\n",
       "      <td>-1.257729</td>\n",
       "      <td>11.810571</td>\n",
       "      <td>0.047361</td>\n",
       "      <td>0.350179</td>\n",
       "      <td>392.404</td>\n",
       "      <td>368.212</td>\n",
       "      <td>...</td>\n",
       "      <td>0</td>\n",
       "      <td>0</td>\n",
       "      <td>0</td>\n",
       "      <td>0</td>\n",
       "      <td>0</td>\n",
       "      <td>0</td>\n",
       "      <td>0</td>\n",
       "      <td>0</td>\n",
       "      <td>0</td>\n",
       "      <td>0</td>\n",
       "    </tr>\n",
       "    <tr>\n",
       "      <th>2</th>\n",
       "      <td>49184</td>\n",
       "      <td>[H]OC(=O)C1([H])N([H])C(=O)C([H])(C([H])([H])[...</td>\n",
       "      <td>PN</td>\n",
       "      <td>14.635249</td>\n",
       "      <td>-1.880928</td>\n",
       "      <td>14.635249</td>\n",
       "      <td>0.009939</td>\n",
       "      <td>0.079820</td>\n",
       "      <td>1048.248</td>\n",
       "      <td>974.664</td>\n",
       "      <td>...</td>\n",
       "      <td>0</td>\n",
       "      <td>0</td>\n",
       "      <td>0</td>\n",
       "      <td>0</td>\n",
       "      <td>0</td>\n",
       "      <td>0</td>\n",
       "      <td>0</td>\n",
       "      <td>0</td>\n",
       "      <td>0</td>\n",
       "      <td>0</td>\n",
       "    </tr>\n",
       "    <tr>\n",
       "      <th>3</th>\n",
       "      <td>24167</td>\n",
       "      <td>[H]OC12c3c([H])c([H])c([H])c([H])c3N([H])C1([H...</td>\n",
       "      <td>PN</td>\n",
       "      <td>10.295694</td>\n",
       "      <td>-0.795046</td>\n",
       "      <td>10.295694</td>\n",
       "      <td>0.245463</td>\n",
       "      <td>0.621942</td>\n",
       "      <td>177.203</td>\n",
       "      <td>166.115</td>\n",
       "      <td>...</td>\n",
       "      <td>0</td>\n",
       "      <td>0</td>\n",
       "      <td>0</td>\n",
       "      <td>0</td>\n",
       "      <td>0</td>\n",
       "      <td>0</td>\n",
       "      <td>0</td>\n",
       "      <td>0</td>\n",
       "      <td>0</td>\n",
       "      <td>0</td>\n",
       "    </tr>\n",
       "    <tr>\n",
       "      <th>4</th>\n",
       "      <td>51906</td>\n",
       "      <td>[H]Oc1c([H])c([H])c(C([H])([H])C2([H])C(=O)N([...</td>\n",
       "      <td>PN</td>\n",
       "      <td>15.025844</td>\n",
       "      <td>-1.826261</td>\n",
       "      <td>15.025844</td>\n",
       "      <td>0.062522</td>\n",
       "      <td>0.081104</td>\n",
       "      <td>1051.274</td>\n",
       "      <td>976.682</td>\n",
       "      <td>...</td>\n",
       "      <td>0</td>\n",
       "      <td>0</td>\n",
       "      <td>0</td>\n",
       "      <td>0</td>\n",
       "      <td>0</td>\n",
       "      <td>0</td>\n",
       "      <td>0</td>\n",
       "      <td>0</td>\n",
       "      <td>0</td>\n",
       "      <td>0</td>\n",
       "    </tr>\n",
       "  </tbody>\n",
       "</table>\n",
       "<p>5 rows × 211 columns</p>\n",
       "</div>"
      ],
      "text/plain": [
       "   Entry Number                                             smiles type  \\\n",
       "0         68765  [H]OC(=NC([H])(C([H])([H])[H])C([H])([H])OC([H...   PN   \n",
       "1         23939  [H]OC(=O)C([H])=C([H])C(=O)C([H])([H])C([H])([...   PN   \n",
       "2         49184  [H]OC(=O)C1([H])N([H])C(=O)C([H])(C([H])([H])[...   PN   \n",
       "3         24167  [H]OC12c3c([H])c([H])c([H])c([H])c3N([H])C1([H...   PN   \n",
       "4         51906  [H]Oc1c([H])c([H])c(C([H])([H])C2([H])C(=O)N([...   PN   \n",
       "\n",
       "   MaxEStateIndex  MinEStateIndex  MaxAbsEStateIndex  MinAbsEStateIndex  \\\n",
       "0       10.164502       -0.445099          10.164502           0.030833   \n",
       "1       11.810571       -1.257729          11.810571           0.047361   \n",
       "2       14.635249       -1.880928          14.635249           0.009939   \n",
       "3       10.295694       -0.795046          10.295694           0.245463   \n",
       "4       15.025844       -1.826261          15.025844           0.062522   \n",
       "\n",
       "        qed     MolWt  HeavyAtomMolWt  ...  fr_sulfide  fr_sulfonamd  \\\n",
       "0  0.212838   387.564         350.268  ...           0             0   \n",
       "1  0.350179   392.404         368.212  ...           0             0   \n",
       "2  0.079820  1048.248         974.664  ...           0             0   \n",
       "3  0.621942   177.203         166.115  ...           0             0   \n",
       "4  0.081104  1051.274         976.682  ...           0             0   \n",
       "\n",
       "   fr_sulfone  fr_term_acetylene  fr_tetrazole  fr_thiazole  fr_thiocyan  \\\n",
       "0           0                  0             0            0            0   \n",
       "1           0                  0             0            0            0   \n",
       "2           0                  0             0            0            0   \n",
       "3           0                  0             0            0            0   \n",
       "4           0                  0             0            0            0   \n",
       "\n",
       "   fr_thiophene  fr_unbrch_alkane  fr_urea  \n",
       "0             0                 0        0  \n",
       "1             0                 0        0  \n",
       "2             0                 0        0  \n",
       "3             0                 0        0  \n",
       "4             0                 0        0  \n",
       "\n",
       "[5 rows x 211 columns]"
      ]
     },
     "execution_count": 1,
     "metadata": {},
     "output_type": "execute_result"
    }
   ],
   "source": [
    "import pandas as pd\n",
    "df = pd.read_csv('/Users/rafaelvieira/Downloads/LUMIOS - Notebook/descritores_PN_respiratory_13396.csv')\n",
    "df.head()"
   ]
  },
  {
   "cell_type": "markdown",
   "id": "085ca0c2",
   "metadata": {},
   "source": [
    "<table align=\"left\" class=\"dashed-box\">\n",
    "<tr>\n",
    "    <td>💡</td>\n",
    "    <td><td>For this notebook, only the SMILES (Simplified Molecular-Input Line-Entry System) will be used to generate images.\"</td>\n",
    "</td>\n",
    "</tr>\n",
    "</table><br/><br/><br/>"
   ]
  },
  {
   "cell_type": "markdown",
   "id": "65c477f6",
   "metadata": {},
   "source": [
    "### 1.1 - Duplicates removal 🪞"
   ]
  },
  {
   "cell_type": "code",
   "execution_count": 2,
   "id": "c0eb78c8",
   "metadata": {},
   "outputs": [],
   "source": [
    "df = df.drop_duplicates(subset=['smiles'], keep = 'last')"
   ]
  },
  {
   "cell_type": "code",
   "execution_count": 3,
   "id": "2b7d22e5",
   "metadata": {},
   "outputs": [
    {
     "data": {
      "text/plain": [
       "(13396, 211)"
      ]
     },
     "execution_count": 3,
     "metadata": {},
     "output_type": "execute_result"
    }
   ],
   "source": [
    "df.shape"
   ]
  },
  {
   "cell_type": "markdown",
   "id": "fd8695cb",
   "metadata": {},
   "source": [
    "\n",
    "<table align=\"left\" class=\"dashed-box\">\n",
    "<tr>\n",
    "    <td>💡</td>\n",
    "    <td><td>There are <b>13,396 molecules</b> in the dataset. Since it is a binary classification, we chose to have an equal amount of data in each class</td>\n",
    "</td>\n",
    "</tr>\n",
    "</table><br/><br/><br/>"
   ]
  },
  {
   "cell_type": "code",
   "execution_count": 4,
   "id": "32c73673",
   "metadata": {},
   "outputs": [
    {
     "data": {
      "text/plain": [
       "array(['PN', 'Drug'], dtype=object)"
      ]
     },
     "execution_count": 4,
     "metadata": {},
     "output_type": "execute_result"
    }
   ],
   "source": [
    "df['type'].unique()"
   ]
  },
  {
   "cell_type": "code",
   "execution_count": 6,
   "id": "4a365a4a",
   "metadata": {},
   "outputs": [
    {
     "data": {
      "application/vnd.plotly.v1+json": {
       "config": {
        "plotlyServerURL": "https://plot.ly"
       },
       "data": [
        {
         "marker": {
          "color": [
           "lightblue",
           "crimson"
          ]
         },
         "text": [
          6741,
          6655
         ],
         "type": "bar",
         "x": [
          "Drug",
          "PN"
         ],
         "y": [
          6741,
          6655
         ]
        }
       ],
       "layout": {
        "template": {
         "data": {
          "bar": [
           {
            "error_x": {
             "color": "#2a3f5f"
            },
            "error_y": {
             "color": "#2a3f5f"
            },
            "marker": {
             "line": {
              "color": "#E5ECF6",
              "width": 0.5
             },
             "pattern": {
              "fillmode": "overlay",
              "size": 10,
              "solidity": 0.2
             }
            },
            "type": "bar"
           }
          ],
          "barpolar": [
           {
            "marker": {
             "line": {
              "color": "#E5ECF6",
              "width": 0.5
             },
             "pattern": {
              "fillmode": "overlay",
              "size": 10,
              "solidity": 0.2
             }
            },
            "type": "barpolar"
           }
          ],
          "carpet": [
           {
            "aaxis": {
             "endlinecolor": "#2a3f5f",
             "gridcolor": "white",
             "linecolor": "white",
             "minorgridcolor": "white",
             "startlinecolor": "#2a3f5f"
            },
            "baxis": {
             "endlinecolor": "#2a3f5f",
             "gridcolor": "white",
             "linecolor": "white",
             "minorgridcolor": "white",
             "startlinecolor": "#2a3f5f"
            },
            "type": "carpet"
           }
          ],
          "choropleth": [
           {
            "colorbar": {
             "outlinewidth": 0,
             "ticks": ""
            },
            "type": "choropleth"
           }
          ],
          "contour": [
           {
            "colorbar": {
             "outlinewidth": 0,
             "ticks": ""
            },
            "colorscale": [
             [
              0,
              "#0d0887"
             ],
             [
              0.1111111111111111,
              "#46039f"
             ],
             [
              0.2222222222222222,
              "#7201a8"
             ],
             [
              0.3333333333333333,
              "#9c179e"
             ],
             [
              0.4444444444444444,
              "#bd3786"
             ],
             [
              0.5555555555555556,
              "#d8576b"
             ],
             [
              0.6666666666666666,
              "#ed7953"
             ],
             [
              0.7777777777777778,
              "#fb9f3a"
             ],
             [
              0.8888888888888888,
              "#fdca26"
             ],
             [
              1,
              "#f0f921"
             ]
            ],
            "type": "contour"
           }
          ],
          "contourcarpet": [
           {
            "colorbar": {
             "outlinewidth": 0,
             "ticks": ""
            },
            "type": "contourcarpet"
           }
          ],
          "heatmap": [
           {
            "colorbar": {
             "outlinewidth": 0,
             "ticks": ""
            },
            "colorscale": [
             [
              0,
              "#0d0887"
             ],
             [
              0.1111111111111111,
              "#46039f"
             ],
             [
              0.2222222222222222,
              "#7201a8"
             ],
             [
              0.3333333333333333,
              "#9c179e"
             ],
             [
              0.4444444444444444,
              "#bd3786"
             ],
             [
              0.5555555555555556,
              "#d8576b"
             ],
             [
              0.6666666666666666,
              "#ed7953"
             ],
             [
              0.7777777777777778,
              "#fb9f3a"
             ],
             [
              0.8888888888888888,
              "#fdca26"
             ],
             [
              1,
              "#f0f921"
             ]
            ],
            "type": "heatmap"
           }
          ],
          "heatmapgl": [
           {
            "colorbar": {
             "outlinewidth": 0,
             "ticks": ""
            },
            "colorscale": [
             [
              0,
              "#0d0887"
             ],
             [
              0.1111111111111111,
              "#46039f"
             ],
             [
              0.2222222222222222,
              "#7201a8"
             ],
             [
              0.3333333333333333,
              "#9c179e"
             ],
             [
              0.4444444444444444,
              "#bd3786"
             ],
             [
              0.5555555555555556,
              "#d8576b"
             ],
             [
              0.6666666666666666,
              "#ed7953"
             ],
             [
              0.7777777777777778,
              "#fb9f3a"
             ],
             [
              0.8888888888888888,
              "#fdca26"
             ],
             [
              1,
              "#f0f921"
             ]
            ],
            "type": "heatmapgl"
           }
          ],
          "histogram": [
           {
            "marker": {
             "pattern": {
              "fillmode": "overlay",
              "size": 10,
              "solidity": 0.2
             }
            },
            "type": "histogram"
           }
          ],
          "histogram2d": [
           {
            "colorbar": {
             "outlinewidth": 0,
             "ticks": ""
            },
            "colorscale": [
             [
              0,
              "#0d0887"
             ],
             [
              0.1111111111111111,
              "#46039f"
             ],
             [
              0.2222222222222222,
              "#7201a8"
             ],
             [
              0.3333333333333333,
              "#9c179e"
             ],
             [
              0.4444444444444444,
              "#bd3786"
             ],
             [
              0.5555555555555556,
              "#d8576b"
             ],
             [
              0.6666666666666666,
              "#ed7953"
             ],
             [
              0.7777777777777778,
              "#fb9f3a"
             ],
             [
              0.8888888888888888,
              "#fdca26"
             ],
             [
              1,
              "#f0f921"
             ]
            ],
            "type": "histogram2d"
           }
          ],
          "histogram2dcontour": [
           {
            "colorbar": {
             "outlinewidth": 0,
             "ticks": ""
            },
            "colorscale": [
             [
              0,
              "#0d0887"
             ],
             [
              0.1111111111111111,
              "#46039f"
             ],
             [
              0.2222222222222222,
              "#7201a8"
             ],
             [
              0.3333333333333333,
              "#9c179e"
             ],
             [
              0.4444444444444444,
              "#bd3786"
             ],
             [
              0.5555555555555556,
              "#d8576b"
             ],
             [
              0.6666666666666666,
              "#ed7953"
             ],
             [
              0.7777777777777778,
              "#fb9f3a"
             ],
             [
              0.8888888888888888,
              "#fdca26"
             ],
             [
              1,
              "#f0f921"
             ]
            ],
            "type": "histogram2dcontour"
           }
          ],
          "mesh3d": [
           {
            "colorbar": {
             "outlinewidth": 0,
             "ticks": ""
            },
            "type": "mesh3d"
           }
          ],
          "parcoords": [
           {
            "line": {
             "colorbar": {
              "outlinewidth": 0,
              "ticks": ""
             }
            },
            "type": "parcoords"
           }
          ],
          "pie": [
           {
            "automargin": true,
            "type": "pie"
           }
          ],
          "scatter": [
           {
            "marker": {
             "colorbar": {
              "outlinewidth": 0,
              "ticks": ""
             }
            },
            "type": "scatter"
           }
          ],
          "scatter3d": [
           {
            "line": {
             "colorbar": {
              "outlinewidth": 0,
              "ticks": ""
             }
            },
            "marker": {
             "colorbar": {
              "outlinewidth": 0,
              "ticks": ""
             }
            },
            "type": "scatter3d"
           }
          ],
          "scattercarpet": [
           {
            "marker": {
             "colorbar": {
              "outlinewidth": 0,
              "ticks": ""
             }
            },
            "type": "scattercarpet"
           }
          ],
          "scattergeo": [
           {
            "marker": {
             "colorbar": {
              "outlinewidth": 0,
              "ticks": ""
             }
            },
            "type": "scattergeo"
           }
          ],
          "scattergl": [
           {
            "marker": {
             "colorbar": {
              "outlinewidth": 0,
              "ticks": ""
             }
            },
            "type": "scattergl"
           }
          ],
          "scattermapbox": [
           {
            "marker": {
             "colorbar": {
              "outlinewidth": 0,
              "ticks": ""
             }
            },
            "type": "scattermapbox"
           }
          ],
          "scatterpolar": [
           {
            "marker": {
             "colorbar": {
              "outlinewidth": 0,
              "ticks": ""
             }
            },
            "type": "scatterpolar"
           }
          ],
          "scatterpolargl": [
           {
            "marker": {
             "colorbar": {
              "outlinewidth": 0,
              "ticks": ""
             }
            },
            "type": "scatterpolargl"
           }
          ],
          "scatterternary": [
           {
            "marker": {
             "colorbar": {
              "outlinewidth": 0,
              "ticks": ""
             }
            },
            "type": "scatterternary"
           }
          ],
          "surface": [
           {
            "colorbar": {
             "outlinewidth": 0,
             "ticks": ""
            },
            "colorscale": [
             [
              0,
              "#0d0887"
             ],
             [
              0.1111111111111111,
              "#46039f"
             ],
             [
              0.2222222222222222,
              "#7201a8"
             ],
             [
              0.3333333333333333,
              "#9c179e"
             ],
             [
              0.4444444444444444,
              "#bd3786"
             ],
             [
              0.5555555555555556,
              "#d8576b"
             ],
             [
              0.6666666666666666,
              "#ed7953"
             ],
             [
              0.7777777777777778,
              "#fb9f3a"
             ],
             [
              0.8888888888888888,
              "#fdca26"
             ],
             [
              1,
              "#f0f921"
             ]
            ],
            "type": "surface"
           }
          ],
          "table": [
           {
            "cells": {
             "fill": {
              "color": "#EBF0F8"
             },
             "line": {
              "color": "white"
             }
            },
            "header": {
             "fill": {
              "color": "#C8D4E3"
             },
             "line": {
              "color": "white"
             }
            },
            "type": "table"
           }
          ]
         },
         "layout": {
          "annotationdefaults": {
           "arrowcolor": "#2a3f5f",
           "arrowhead": 0,
           "arrowwidth": 1
          },
          "autotypenumbers": "strict",
          "coloraxis": {
           "colorbar": {
            "outlinewidth": 0,
            "ticks": ""
           }
          },
          "colorscale": {
           "diverging": [
            [
             0,
             "#8e0152"
            ],
            [
             0.1,
             "#c51b7d"
            ],
            [
             0.2,
             "#de77ae"
            ],
            [
             0.3,
             "#f1b6da"
            ],
            [
             0.4,
             "#fde0ef"
            ],
            [
             0.5,
             "#f7f7f7"
            ],
            [
             0.6,
             "#e6f5d0"
            ],
            [
             0.7,
             "#b8e186"
            ],
            [
             0.8,
             "#7fbc41"
            ],
            [
             0.9,
             "#4d9221"
            ],
            [
             1,
             "#276419"
            ]
           ],
           "sequential": [
            [
             0,
             "#0d0887"
            ],
            [
             0.1111111111111111,
             "#46039f"
            ],
            [
             0.2222222222222222,
             "#7201a8"
            ],
            [
             0.3333333333333333,
             "#9c179e"
            ],
            [
             0.4444444444444444,
             "#bd3786"
            ],
            [
             0.5555555555555556,
             "#d8576b"
            ],
            [
             0.6666666666666666,
             "#ed7953"
            ],
            [
             0.7777777777777778,
             "#fb9f3a"
            ],
            [
             0.8888888888888888,
             "#fdca26"
            ],
            [
             1,
             "#f0f921"
            ]
           ],
           "sequentialminus": [
            [
             0,
             "#0d0887"
            ],
            [
             0.1111111111111111,
             "#46039f"
            ],
            [
             0.2222222222222222,
             "#7201a8"
            ],
            [
             0.3333333333333333,
             "#9c179e"
            ],
            [
             0.4444444444444444,
             "#bd3786"
            ],
            [
             0.5555555555555556,
             "#d8576b"
            ],
            [
             0.6666666666666666,
             "#ed7953"
            ],
            [
             0.7777777777777778,
             "#fb9f3a"
            ],
            [
             0.8888888888888888,
             "#fdca26"
            ],
            [
             1,
             "#f0f921"
            ]
           ]
          },
          "colorway": [
           "#636efa",
           "#EF553B",
           "#00cc96",
           "#ab63fa",
           "#FFA15A",
           "#19d3f3",
           "#FF6692",
           "#B6E880",
           "#FF97FF",
           "#FECB52"
          ],
          "font": {
           "color": "#2a3f5f"
          },
          "geo": {
           "bgcolor": "white",
           "lakecolor": "white",
           "landcolor": "#E5ECF6",
           "showlakes": true,
           "showland": true,
           "subunitcolor": "white"
          },
          "hoverlabel": {
           "align": "left"
          },
          "hovermode": "closest",
          "mapbox": {
           "style": "light"
          },
          "paper_bgcolor": "white",
          "plot_bgcolor": "#E5ECF6",
          "polar": {
           "angularaxis": {
            "gridcolor": "white",
            "linecolor": "white",
            "ticks": ""
           },
           "bgcolor": "#E5ECF6",
           "radialaxis": {
            "gridcolor": "white",
            "linecolor": "white",
            "ticks": ""
           }
          },
          "scene": {
           "xaxis": {
            "backgroundcolor": "#E5ECF6",
            "gridcolor": "white",
            "gridwidth": 2,
            "linecolor": "white",
            "showbackground": true,
            "ticks": "",
            "zerolinecolor": "white"
           },
           "yaxis": {
            "backgroundcolor": "#E5ECF6",
            "gridcolor": "white",
            "gridwidth": 2,
            "linecolor": "white",
            "showbackground": true,
            "ticks": "",
            "zerolinecolor": "white"
           },
           "zaxis": {
            "backgroundcolor": "#E5ECF6",
            "gridcolor": "white",
            "gridwidth": 2,
            "linecolor": "white",
            "showbackground": true,
            "ticks": "",
            "zerolinecolor": "white"
           }
          },
          "shapedefaults": {
           "line": {
            "color": "#2a3f5f"
           }
          },
          "ternary": {
           "aaxis": {
            "gridcolor": "white",
            "linecolor": "white",
            "ticks": ""
           },
           "baxis": {
            "gridcolor": "white",
            "linecolor": "white",
            "ticks": ""
           },
           "bgcolor": "#E5ECF6",
           "caxis": {
            "gridcolor": "white",
            "linecolor": "white",
            "ticks": ""
           }
          },
          "title": {
           "x": 0.05
          },
          "xaxis": {
           "automargin": true,
           "gridcolor": "white",
           "linecolor": "white",
           "ticks": "",
           "title": {
            "standoff": 15
           },
           "zerolinecolor": "white",
           "zerolinewidth": 2
          },
          "yaxis": {
           "automargin": true,
           "gridcolor": "white",
           "linecolor": "white",
           "ticks": "",
           "title": {
            "standoff": 15
           },
           "zerolinecolor": "white",
           "zerolinewidth": 2
          }
         }
        }
       }
      },
      "text/html": [
       "<div>                            <div id=\"b22e35d4-2b5d-419f-bf04-5ff565cad6e8\" class=\"plotly-graph-div\" style=\"height:525px; width:100%;\"></div>            <script type=\"text/javascript\">                require([\"plotly\"], function(Plotly) {                    window.PLOTLYENV=window.PLOTLYENV || {};                                    if (document.getElementById(\"b22e35d4-2b5d-419f-bf04-5ff565cad6e8\")) {                    Plotly.newPlot(                        \"b22e35d4-2b5d-419f-bf04-5ff565cad6e8\",                        [{\"marker\":{\"color\":[\"lightblue\",\"crimson\"]},\"text\":[6741.0,6655.0],\"x\":[\"Drug\",\"PN\"],\"y\":[6741,6655],\"type\":\"bar\"}],                        {\"template\":{\"data\":{\"bar\":[{\"error_x\":{\"color\":\"#2a3f5f\"},\"error_y\":{\"color\":\"#2a3f5f\"},\"marker\":{\"line\":{\"color\":\"#E5ECF6\",\"width\":0.5},\"pattern\":{\"fillmode\":\"overlay\",\"size\":10,\"solidity\":0.2}},\"type\":\"bar\"}],\"barpolar\":[{\"marker\":{\"line\":{\"color\":\"#E5ECF6\",\"width\":0.5},\"pattern\":{\"fillmode\":\"overlay\",\"size\":10,\"solidity\":0.2}},\"type\":\"barpolar\"}],\"carpet\":[{\"aaxis\":{\"endlinecolor\":\"#2a3f5f\",\"gridcolor\":\"white\",\"linecolor\":\"white\",\"minorgridcolor\":\"white\",\"startlinecolor\":\"#2a3f5f\"},\"baxis\":{\"endlinecolor\":\"#2a3f5f\",\"gridcolor\":\"white\",\"linecolor\":\"white\",\"minorgridcolor\":\"white\",\"startlinecolor\":\"#2a3f5f\"},\"type\":\"carpet\"}],\"choropleth\":[{\"colorbar\":{\"outlinewidth\":0,\"ticks\":\"\"},\"type\":\"choropleth\"}],\"contour\":[{\"colorbar\":{\"outlinewidth\":0,\"ticks\":\"\"},\"colorscale\":[[0.0,\"#0d0887\"],[0.1111111111111111,\"#46039f\"],[0.2222222222222222,\"#7201a8\"],[0.3333333333333333,\"#9c179e\"],[0.4444444444444444,\"#bd3786\"],[0.5555555555555556,\"#d8576b\"],[0.6666666666666666,\"#ed7953\"],[0.7777777777777778,\"#fb9f3a\"],[0.8888888888888888,\"#fdca26\"],[1.0,\"#f0f921\"]],\"type\":\"contour\"}],\"contourcarpet\":[{\"colorbar\":{\"outlinewidth\":0,\"ticks\":\"\"},\"type\":\"contourcarpet\"}],\"heatmap\":[{\"colorbar\":{\"outlinewidth\":0,\"ticks\":\"\"},\"colorscale\":[[0.0,\"#0d0887\"],[0.1111111111111111,\"#46039f\"],[0.2222222222222222,\"#7201a8\"],[0.3333333333333333,\"#9c179e\"],[0.4444444444444444,\"#bd3786\"],[0.5555555555555556,\"#d8576b\"],[0.6666666666666666,\"#ed7953\"],[0.7777777777777778,\"#fb9f3a\"],[0.8888888888888888,\"#fdca26\"],[1.0,\"#f0f921\"]],\"type\":\"heatmap\"}],\"heatmapgl\":[{\"colorbar\":{\"outlinewidth\":0,\"ticks\":\"\"},\"colorscale\":[[0.0,\"#0d0887\"],[0.1111111111111111,\"#46039f\"],[0.2222222222222222,\"#7201a8\"],[0.3333333333333333,\"#9c179e\"],[0.4444444444444444,\"#bd3786\"],[0.5555555555555556,\"#d8576b\"],[0.6666666666666666,\"#ed7953\"],[0.7777777777777778,\"#fb9f3a\"],[0.8888888888888888,\"#fdca26\"],[1.0,\"#f0f921\"]],\"type\":\"heatmapgl\"}],\"histogram\":[{\"marker\":{\"pattern\":{\"fillmode\":\"overlay\",\"size\":10,\"solidity\":0.2}},\"type\":\"histogram\"}],\"histogram2d\":[{\"colorbar\":{\"outlinewidth\":0,\"ticks\":\"\"},\"colorscale\":[[0.0,\"#0d0887\"],[0.1111111111111111,\"#46039f\"],[0.2222222222222222,\"#7201a8\"],[0.3333333333333333,\"#9c179e\"],[0.4444444444444444,\"#bd3786\"],[0.5555555555555556,\"#d8576b\"],[0.6666666666666666,\"#ed7953\"],[0.7777777777777778,\"#fb9f3a\"],[0.8888888888888888,\"#fdca26\"],[1.0,\"#f0f921\"]],\"type\":\"histogram2d\"}],\"histogram2dcontour\":[{\"colorbar\":{\"outlinewidth\":0,\"ticks\":\"\"},\"colorscale\":[[0.0,\"#0d0887\"],[0.1111111111111111,\"#46039f\"],[0.2222222222222222,\"#7201a8\"],[0.3333333333333333,\"#9c179e\"],[0.4444444444444444,\"#bd3786\"],[0.5555555555555556,\"#d8576b\"],[0.6666666666666666,\"#ed7953\"],[0.7777777777777778,\"#fb9f3a\"],[0.8888888888888888,\"#fdca26\"],[1.0,\"#f0f921\"]],\"type\":\"histogram2dcontour\"}],\"mesh3d\":[{\"colorbar\":{\"outlinewidth\":0,\"ticks\":\"\"},\"type\":\"mesh3d\"}],\"parcoords\":[{\"line\":{\"colorbar\":{\"outlinewidth\":0,\"ticks\":\"\"}},\"type\":\"parcoords\"}],\"pie\":[{\"automargin\":true,\"type\":\"pie\"}],\"scatter\":[{\"marker\":{\"colorbar\":{\"outlinewidth\":0,\"ticks\":\"\"}},\"type\":\"scatter\"}],\"scatter3d\":[{\"line\":{\"colorbar\":{\"outlinewidth\":0,\"ticks\":\"\"}},\"marker\":{\"colorbar\":{\"outlinewidth\":0,\"ticks\":\"\"}},\"type\":\"scatter3d\"}],\"scattercarpet\":[{\"marker\":{\"colorbar\":{\"outlinewidth\":0,\"ticks\":\"\"}},\"type\":\"scattercarpet\"}],\"scattergeo\":[{\"marker\":{\"colorbar\":{\"outlinewidth\":0,\"ticks\":\"\"}},\"type\":\"scattergeo\"}],\"scattergl\":[{\"marker\":{\"colorbar\":{\"outlinewidth\":0,\"ticks\":\"\"}},\"type\":\"scattergl\"}],\"scattermapbox\":[{\"marker\":{\"colorbar\":{\"outlinewidth\":0,\"ticks\":\"\"}},\"type\":\"scattermapbox\"}],\"scatterpolar\":[{\"marker\":{\"colorbar\":{\"outlinewidth\":0,\"ticks\":\"\"}},\"type\":\"scatterpolar\"}],\"scatterpolargl\":[{\"marker\":{\"colorbar\":{\"outlinewidth\":0,\"ticks\":\"\"}},\"type\":\"scatterpolargl\"}],\"scatterternary\":[{\"marker\":{\"colorbar\":{\"outlinewidth\":0,\"ticks\":\"\"}},\"type\":\"scatterternary\"}],\"surface\":[{\"colorbar\":{\"outlinewidth\":0,\"ticks\":\"\"},\"colorscale\":[[0.0,\"#0d0887\"],[0.1111111111111111,\"#46039f\"],[0.2222222222222222,\"#7201a8\"],[0.3333333333333333,\"#9c179e\"],[0.4444444444444444,\"#bd3786\"],[0.5555555555555556,\"#d8576b\"],[0.6666666666666666,\"#ed7953\"],[0.7777777777777778,\"#fb9f3a\"],[0.8888888888888888,\"#fdca26\"],[1.0,\"#f0f921\"]],\"type\":\"surface\"}],\"table\":[{\"cells\":{\"fill\":{\"color\":\"#EBF0F8\"},\"line\":{\"color\":\"white\"}},\"header\":{\"fill\":{\"color\":\"#C8D4E3\"},\"line\":{\"color\":\"white\"}},\"type\":\"table\"}]},\"layout\":{\"annotationdefaults\":{\"arrowcolor\":\"#2a3f5f\",\"arrowhead\":0,\"arrowwidth\":1},\"autotypenumbers\":\"strict\",\"coloraxis\":{\"colorbar\":{\"outlinewidth\":0,\"ticks\":\"\"}},\"colorscale\":{\"diverging\":[[0,\"#8e0152\"],[0.1,\"#c51b7d\"],[0.2,\"#de77ae\"],[0.3,\"#f1b6da\"],[0.4,\"#fde0ef\"],[0.5,\"#f7f7f7\"],[0.6,\"#e6f5d0\"],[0.7,\"#b8e186\"],[0.8,\"#7fbc41\"],[0.9,\"#4d9221\"],[1,\"#276419\"]],\"sequential\":[[0.0,\"#0d0887\"],[0.1111111111111111,\"#46039f\"],[0.2222222222222222,\"#7201a8\"],[0.3333333333333333,\"#9c179e\"],[0.4444444444444444,\"#bd3786\"],[0.5555555555555556,\"#d8576b\"],[0.6666666666666666,\"#ed7953\"],[0.7777777777777778,\"#fb9f3a\"],[0.8888888888888888,\"#fdca26\"],[1.0,\"#f0f921\"]],\"sequentialminus\":[[0.0,\"#0d0887\"],[0.1111111111111111,\"#46039f\"],[0.2222222222222222,\"#7201a8\"],[0.3333333333333333,\"#9c179e\"],[0.4444444444444444,\"#bd3786\"],[0.5555555555555556,\"#d8576b\"],[0.6666666666666666,\"#ed7953\"],[0.7777777777777778,\"#fb9f3a\"],[0.8888888888888888,\"#fdca26\"],[1.0,\"#f0f921\"]]},\"colorway\":[\"#636efa\",\"#EF553B\",\"#00cc96\",\"#ab63fa\",\"#FFA15A\",\"#19d3f3\",\"#FF6692\",\"#B6E880\",\"#FF97FF\",\"#FECB52\"],\"font\":{\"color\":\"#2a3f5f\"},\"geo\":{\"bgcolor\":\"white\",\"lakecolor\":\"white\",\"landcolor\":\"#E5ECF6\",\"showlakes\":true,\"showland\":true,\"subunitcolor\":\"white\"},\"hoverlabel\":{\"align\":\"left\"},\"hovermode\":\"closest\",\"mapbox\":{\"style\":\"light\"},\"paper_bgcolor\":\"white\",\"plot_bgcolor\":\"#E5ECF6\",\"polar\":{\"angularaxis\":{\"gridcolor\":\"white\",\"linecolor\":\"white\",\"ticks\":\"\"},\"bgcolor\":\"#E5ECF6\",\"radialaxis\":{\"gridcolor\":\"white\",\"linecolor\":\"white\",\"ticks\":\"\"}},\"scene\":{\"xaxis\":{\"backgroundcolor\":\"#E5ECF6\",\"gridcolor\":\"white\",\"gridwidth\":2,\"linecolor\":\"white\",\"showbackground\":true,\"ticks\":\"\",\"zerolinecolor\":\"white\"},\"yaxis\":{\"backgroundcolor\":\"#E5ECF6\",\"gridcolor\":\"white\",\"gridwidth\":2,\"linecolor\":\"white\",\"showbackground\":true,\"ticks\":\"\",\"zerolinecolor\":\"white\"},\"zaxis\":{\"backgroundcolor\":\"#E5ECF6\",\"gridcolor\":\"white\",\"gridwidth\":2,\"linecolor\":\"white\",\"showbackground\":true,\"ticks\":\"\",\"zerolinecolor\":\"white\"}},\"shapedefaults\":{\"line\":{\"color\":\"#2a3f5f\"}},\"ternary\":{\"aaxis\":{\"gridcolor\":\"white\",\"linecolor\":\"white\",\"ticks\":\"\"},\"baxis\":{\"gridcolor\":\"white\",\"linecolor\":\"white\",\"ticks\":\"\"},\"bgcolor\":\"#E5ECF6\",\"caxis\":{\"gridcolor\":\"white\",\"linecolor\":\"white\",\"ticks\":\"\"}},\"title\":{\"x\":0.05},\"xaxis\":{\"automargin\":true,\"gridcolor\":\"white\",\"linecolor\":\"white\",\"ticks\":\"\",\"title\":{\"standoff\":15},\"zerolinecolor\":\"white\",\"zerolinewidth\":2},\"yaxis\":{\"automargin\":true,\"gridcolor\":\"white\",\"linecolor\":\"white\",\"ticks\":\"\",\"title\":{\"standoff\":15},\"zerolinecolor\":\"white\",\"zerolinewidth\":2}}}},                        {\"responsive\": true}                    ).then(function(){\n",
       "                            \n",
       "var gd = document.getElementById('b22e35d4-2b5d-419f-bf04-5ff565cad6e8');\n",
       "var x = new MutationObserver(function (mutations, observer) {{\n",
       "        var display = window.getComputedStyle(gd).display;\n",
       "        if (!display || display === 'none') {{\n",
       "            console.log([gd, 'removed!']);\n",
       "            Plotly.purge(gd);\n",
       "            observer.disconnect();\n",
       "        }}\n",
       "}});\n",
       "\n",
       "// Listen for the removal of the full notebook cells\n",
       "var notebookContainer = gd.closest('#notebook-container');\n",
       "if (notebookContainer) {{\n",
       "    x.observe(notebookContainer, {childList: true});\n",
       "}}\n",
       "\n",
       "// Listen for the clearing of the current output cell\n",
       "var outputEl = gd.closest('.output');\n",
       "if (outputEl) {{\n",
       "    x.observe(outputEl, {childList: true});\n",
       "}}\n",
       "\n",
       "                        })                };                });            </script>        </div>"
      ]
     },
     "metadata": {},
     "output_type": "display_data"
    }
   ],
   "source": [
    "import plotly.express as px\n",
    "import pandas as pd\n",
    "import plotly.graph_objects as go\n",
    "import pandas as pd\n",
    "\n",
    "# Conte as ocorrências de cada classe\n",
    "class_counts = df['type'].value_counts().reset_index()\n",
    "class_counts.columns = ['type', 'count']\n",
    "\n",
    "# Mapeie as cores para as classes\n",
    "colors = {'PN': 'crimson', 'Drug': 'lightblue'}\n",
    "class_counts['colors'] = class_counts['type'].map(colors)\n",
    "\n",
    "# Crie o gráfico de barras com as cores mapeadas\n",
    "# fig = px.bar(class_counts, x='type', y='count', title='Classes', color='colors')\n",
    "\n",
    "fig = go.Figure(data=[\n",
    "    go.Bar(\n",
    "        x=class_counts['type'],\n",
    "        y=class_counts['count'],\n",
    "        text=class_counts['count'],\n",
    "        marker=dict(color=class_counts['colors']),\n",
    "    )\n",
    "])\n",
    "\n",
    "# Mostre o gráfico\n",
    "fig.show()"
   ]
  },
  {
   "cell_type": "code",
   "execution_count": 7,
   "id": "8770c513",
   "metadata": {},
   "outputs": [],
   "source": [
    "df['type'] = df['type'].replace('PN', 'NP')"
   ]
  },
  {
   "cell_type": "code",
   "execution_count": 8,
   "id": "f07f7023",
   "metadata": {},
   "outputs": [],
   "source": [
    "respiratory = df.loc[df['type'] == 'Drug']\n",
    "NP = df.loc[df['type']=='NP']"
   ]
  },
  {
   "cell_type": "code",
   "execution_count": 9,
   "id": "7adeed30",
   "metadata": {},
   "outputs": [
    {
     "name": "stdout",
     "output_type": "stream",
     "text": [
      "6741\n",
      "6655\n"
     ]
    }
   ],
   "source": [
    "print(len(respiratory))\n",
    "print(len(NP))"
   ]
  },
  {
   "cell_type": "code",
   "execution_count": 10,
   "id": "743edf11",
   "metadata": {},
   "outputs": [],
   "source": [
    "test_size = 1-(len(NP)/len(respiratory))"
   ]
  },
  {
   "cell_type": "markdown",
   "id": "f49708c9",
   "metadata": {},
   "source": [
    "### 1.2 - Undersampling\n",
    "Adjusting the same amount of data for each class"
   ]
  },
  {
   "cell_type": "code",
   "execution_count": 11,
   "id": "f07bd242",
   "metadata": {},
   "outputs": [],
   "source": [
    "## Dessa forma, iremos filtrar para 63803 moleculas de plantas também\n",
    "from sklearn.model_selection import train_test_split\n",
    "\n",
    "respiractory_undersampling_use, respiractory_undersampling_descart = train_test_split(respiratory, test_size= test_size, random_state=42,\n",
    "                                                                          shuffle=True)"
   ]
  },
  {
   "cell_type": "code",
   "execution_count": 12,
   "id": "a449c20f",
   "metadata": {},
   "outputs": [
    {
     "data": {
      "text/plain": [
       "6654"
      ]
     },
     "execution_count": 12,
     "metadata": {},
     "output_type": "execute_result"
    }
   ],
   "source": [
    "len(respiractory_undersampling_use)"
   ]
  },
  {
   "cell_type": "code",
   "execution_count": 13,
   "id": "d8a3e6ed",
   "metadata": {},
   "outputs": [],
   "source": [
    "drugs = respiractory_undersampling_use"
   ]
  },
  {
   "cell_type": "code",
   "execution_count": 14,
   "id": "d36ca7b0",
   "metadata": {},
   "outputs": [
    {
     "name": "stdout",
     "output_type": "stream",
     "text": [
      "6654\n",
      "6655\n"
     ]
    }
   ],
   "source": [
    "print(len(drugs))\n",
    "print(len(NP))"
   ]
  },
  {
   "cell_type": "markdown",
   "id": "7ca971b8",
   "metadata": {},
   "source": [
    "### 1.2 - Converting SMILES to image 💬➡️➡️⚛️"
   ]
  },
  {
   "cell_type": "code",
   "execution_count": 15,
   "id": "2596c8e0",
   "metadata": {},
   "outputs": [],
   "source": [
    "import pandas as pd \n",
    "import numpy as np\n",
    "import matplotlib.pyplot as plt\n",
    "import seaborn as sns\n",
    "from rdkit.Chem import Draw\n",
    "from itertools import combinations\n",
    "from rdkit import Chem\n",
    "from rdkit.Chem import Draw\n",
    "from rdkit.Chem import Descriptors\n",
    "from rdkit.ML.Descriptors import MoleculeDescriptors"
   ]
  },
  {
   "cell_type": "code",
   "execution_count": 16,
   "id": "001de132",
   "metadata": {},
   "outputs": [],
   "source": [
    "NP.reset_index(inplace=True, drop=True)"
   ]
  },
  {
   "cell_type": "code",
   "execution_count": 17,
   "id": "d017186d",
   "metadata": {},
   "outputs": [
    {
     "data": {
      "text/html": [
       "<div>\n",
       "<style scoped>\n",
       "    .dataframe tbody tr th:only-of-type {\n",
       "        vertical-align: middle;\n",
       "    }\n",
       "\n",
       "    .dataframe tbody tr th {\n",
       "        vertical-align: top;\n",
       "    }\n",
       "\n",
       "    .dataframe thead th {\n",
       "        text-align: right;\n",
       "    }\n",
       "</style>\n",
       "<table border=\"1\" class=\"dataframe\">\n",
       "  <thead>\n",
       "    <tr style=\"text-align: right;\">\n",
       "      <th></th>\n",
       "      <th>Entry Number</th>\n",
       "      <th>smiles</th>\n",
       "      <th>type</th>\n",
       "      <th>MaxEStateIndex</th>\n",
       "      <th>MinEStateIndex</th>\n",
       "      <th>MaxAbsEStateIndex</th>\n",
       "      <th>MinAbsEStateIndex</th>\n",
       "      <th>qed</th>\n",
       "      <th>MolWt</th>\n",
       "      <th>HeavyAtomMolWt</th>\n",
       "      <th>...</th>\n",
       "      <th>fr_sulfide</th>\n",
       "      <th>fr_sulfonamd</th>\n",
       "      <th>fr_sulfone</th>\n",
       "      <th>fr_term_acetylene</th>\n",
       "      <th>fr_tetrazole</th>\n",
       "      <th>fr_thiazole</th>\n",
       "      <th>fr_thiocyan</th>\n",
       "      <th>fr_thiophene</th>\n",
       "      <th>fr_unbrch_alkane</th>\n",
       "      <th>fr_urea</th>\n",
       "    </tr>\n",
       "  </thead>\n",
       "  <tbody>\n",
       "    <tr>\n",
       "      <th>0</th>\n",
       "      <td>68765</td>\n",
       "      <td>[H]OC(=NC([H])(C([H])([H])[H])C([H])([H])OC([H...</td>\n",
       "      <td>NP</td>\n",
       "      <td>10.164502</td>\n",
       "      <td>-0.445099</td>\n",
       "      <td>10.164502</td>\n",
       "      <td>0.030833</td>\n",
       "      <td>0.212838</td>\n",
       "      <td>387.564</td>\n",
       "      <td>350.268</td>\n",
       "      <td>...</td>\n",
       "      <td>0</td>\n",
       "      <td>0</td>\n",
       "      <td>0</td>\n",
       "      <td>0</td>\n",
       "      <td>0</td>\n",
       "      <td>0</td>\n",
       "      <td>0</td>\n",
       "      <td>0</td>\n",
       "      <td>0</td>\n",
       "      <td>0</td>\n",
       "    </tr>\n",
       "    <tr>\n",
       "      <th>1</th>\n",
       "      <td>23939</td>\n",
       "      <td>[H]OC(=O)C([H])=C([H])C(=O)C([H])([H])C([H])([...</td>\n",
       "      <td>NP</td>\n",
       "      <td>11.810571</td>\n",
       "      <td>-1.257729</td>\n",
       "      <td>11.810571</td>\n",
       "      <td>0.047361</td>\n",
       "      <td>0.350179</td>\n",
       "      <td>392.404</td>\n",
       "      <td>368.212</td>\n",
       "      <td>...</td>\n",
       "      <td>0</td>\n",
       "      <td>0</td>\n",
       "      <td>0</td>\n",
       "      <td>0</td>\n",
       "      <td>0</td>\n",
       "      <td>0</td>\n",
       "      <td>0</td>\n",
       "      <td>0</td>\n",
       "      <td>0</td>\n",
       "      <td>0</td>\n",
       "    </tr>\n",
       "    <tr>\n",
       "      <th>2</th>\n",
       "      <td>49184</td>\n",
       "      <td>[H]OC(=O)C1([H])N([H])C(=O)C([H])(C([H])([H])[...</td>\n",
       "      <td>NP</td>\n",
       "      <td>14.635249</td>\n",
       "      <td>-1.880928</td>\n",
       "      <td>14.635249</td>\n",
       "      <td>0.009939</td>\n",
       "      <td>0.079820</td>\n",
       "      <td>1048.248</td>\n",
       "      <td>974.664</td>\n",
       "      <td>...</td>\n",
       "      <td>0</td>\n",
       "      <td>0</td>\n",
       "      <td>0</td>\n",
       "      <td>0</td>\n",
       "      <td>0</td>\n",
       "      <td>0</td>\n",
       "      <td>0</td>\n",
       "      <td>0</td>\n",
       "      <td>0</td>\n",
       "      <td>0</td>\n",
       "    </tr>\n",
       "    <tr>\n",
       "      <th>3</th>\n",
       "      <td>24167</td>\n",
       "      <td>[H]OC12c3c([H])c([H])c([H])c([H])c3N([H])C1([H...</td>\n",
       "      <td>NP</td>\n",
       "      <td>10.295694</td>\n",
       "      <td>-0.795046</td>\n",
       "      <td>10.295694</td>\n",
       "      <td>0.245463</td>\n",
       "      <td>0.621942</td>\n",
       "      <td>177.203</td>\n",
       "      <td>166.115</td>\n",
       "      <td>...</td>\n",
       "      <td>0</td>\n",
       "      <td>0</td>\n",
       "      <td>0</td>\n",
       "      <td>0</td>\n",
       "      <td>0</td>\n",
       "      <td>0</td>\n",
       "      <td>0</td>\n",
       "      <td>0</td>\n",
       "      <td>0</td>\n",
       "      <td>0</td>\n",
       "    </tr>\n",
       "    <tr>\n",
       "      <th>4</th>\n",
       "      <td>51906</td>\n",
       "      <td>[H]Oc1c([H])c([H])c(C([H])([H])C2([H])C(=O)N([...</td>\n",
       "      <td>NP</td>\n",
       "      <td>15.025844</td>\n",
       "      <td>-1.826261</td>\n",
       "      <td>15.025844</td>\n",
       "      <td>0.062522</td>\n",
       "      <td>0.081104</td>\n",
       "      <td>1051.274</td>\n",
       "      <td>976.682</td>\n",
       "      <td>...</td>\n",
       "      <td>0</td>\n",
       "      <td>0</td>\n",
       "      <td>0</td>\n",
       "      <td>0</td>\n",
       "      <td>0</td>\n",
       "      <td>0</td>\n",
       "      <td>0</td>\n",
       "      <td>0</td>\n",
       "      <td>0</td>\n",
       "      <td>0</td>\n",
       "    </tr>\n",
       "    <tr>\n",
       "      <th>...</th>\n",
       "      <td>...</td>\n",
       "      <td>...</td>\n",
       "      <td>...</td>\n",
       "      <td>...</td>\n",
       "      <td>...</td>\n",
       "      <td>...</td>\n",
       "      <td>...</td>\n",
       "      <td>...</td>\n",
       "      <td>...</td>\n",
       "      <td>...</td>\n",
       "      <td>...</td>\n",
       "      <td>...</td>\n",
       "      <td>...</td>\n",
       "      <td>...</td>\n",
       "      <td>...</td>\n",
       "      <td>...</td>\n",
       "      <td>...</td>\n",
       "      <td>...</td>\n",
       "      <td>...</td>\n",
       "      <td>...</td>\n",
       "      <td>...</td>\n",
       "    </tr>\n",
       "    <tr>\n",
       "      <th>6650</th>\n",
       "      <td>37267</td>\n",
       "      <td>[H]OC([H])(C([H])([H])[H])C1([H])OC(=O)C(C2([H...</td>\n",
       "      <td>NP</td>\n",
       "      <td>11.234537</td>\n",
       "      <td>-0.656939</td>\n",
       "      <td>11.234537</td>\n",
       "      <td>0.103286</td>\n",
       "      <td>0.484710</td>\n",
       "      <td>184.191</td>\n",
       "      <td>172.095</td>\n",
       "      <td>...</td>\n",
       "      <td>0</td>\n",
       "      <td>0</td>\n",
       "      <td>0</td>\n",
       "      <td>0</td>\n",
       "      <td>0</td>\n",
       "      <td>0</td>\n",
       "      <td>0</td>\n",
       "      <td>0</td>\n",
       "      <td>0</td>\n",
       "      <td>0</td>\n",
       "    </tr>\n",
       "    <tr>\n",
       "      <th>6651</th>\n",
       "      <td>6289</td>\n",
       "      <td>[H]Oc1c([H])c([H])c(-c2oc3c(O[H])c(OC([H])([H]...</td>\n",
       "      <td>NP</td>\n",
       "      <td>12.859549</td>\n",
       "      <td>-0.703168</td>\n",
       "      <td>12.859549</td>\n",
       "      <td>0.020296</td>\n",
       "      <td>0.607670</td>\n",
       "      <td>360.318</td>\n",
       "      <td>344.190</td>\n",
       "      <td>...</td>\n",
       "      <td>0</td>\n",
       "      <td>0</td>\n",
       "      <td>0</td>\n",
       "      <td>0</td>\n",
       "      <td>0</td>\n",
       "      <td>0</td>\n",
       "      <td>0</td>\n",
       "      <td>0</td>\n",
       "      <td>0</td>\n",
       "      <td>0</td>\n",
       "    </tr>\n",
       "    <tr>\n",
       "      <th>6652</th>\n",
       "      <td>54959</td>\n",
       "      <td>[H]OC1([H])C2=C(OC([H])([H])[H])C(=O)C([H])=C(...</td>\n",
       "      <td>NP</td>\n",
       "      <td>13.375765</td>\n",
       "      <td>-1.488981</td>\n",
       "      <td>13.375765</td>\n",
       "      <td>0.079292</td>\n",
       "      <td>0.281608</td>\n",
       "      <td>576.643</td>\n",
       "      <td>536.323</td>\n",
       "      <td>...</td>\n",
       "      <td>0</td>\n",
       "      <td>0</td>\n",
       "      <td>0</td>\n",
       "      <td>0</td>\n",
       "      <td>0</td>\n",
       "      <td>0</td>\n",
       "      <td>0</td>\n",
       "      <td>0</td>\n",
       "      <td>0</td>\n",
       "      <td>0</td>\n",
       "    </tr>\n",
       "    <tr>\n",
       "      <th>6653</th>\n",
       "      <td>866</td>\n",
       "      <td>[H]OC(=O)C([H])(C([H])([H])[H])C([H])([H])C(=O...</td>\n",
       "      <td>NP</td>\n",
       "      <td>12.789495</td>\n",
       "      <td>-1.028091</td>\n",
       "      <td>12.789495</td>\n",
       "      <td>0.010090</td>\n",
       "      <td>0.600967</td>\n",
       "      <td>401.459</td>\n",
       "      <td>374.243</td>\n",
       "      <td>...</td>\n",
       "      <td>0</td>\n",
       "      <td>0</td>\n",
       "      <td>0</td>\n",
       "      <td>0</td>\n",
       "      <td>0</td>\n",
       "      <td>0</td>\n",
       "      <td>0</td>\n",
       "      <td>0</td>\n",
       "      <td>0</td>\n",
       "      <td>0</td>\n",
       "    </tr>\n",
       "    <tr>\n",
       "      <th>6654</th>\n",
       "      <td>15848</td>\n",
       "      <td>[H]Oc1c([H])c2c(c(O[H])c1C([H])([H])C([H])=C(C...</td>\n",
       "      <td>NP</td>\n",
       "      <td>13.574879</td>\n",
       "      <td>-2.172618</td>\n",
       "      <td>13.574879</td>\n",
       "      <td>0.010986</td>\n",
       "      <td>0.481178</td>\n",
       "      <td>454.519</td>\n",
       "      <td>424.279</td>\n",
       "      <td>...</td>\n",
       "      <td>0</td>\n",
       "      <td>0</td>\n",
       "      <td>0</td>\n",
       "      <td>0</td>\n",
       "      <td>0</td>\n",
       "      <td>0</td>\n",
       "      <td>0</td>\n",
       "      <td>0</td>\n",
       "      <td>0</td>\n",
       "      <td>0</td>\n",
       "    </tr>\n",
       "  </tbody>\n",
       "</table>\n",
       "<p>6655 rows × 211 columns</p>\n",
       "</div>"
      ],
      "text/plain": [
       "      Entry Number                                             smiles type  \\\n",
       "0            68765  [H]OC(=NC([H])(C([H])([H])[H])C([H])([H])OC([H...   NP   \n",
       "1            23939  [H]OC(=O)C([H])=C([H])C(=O)C([H])([H])C([H])([...   NP   \n",
       "2            49184  [H]OC(=O)C1([H])N([H])C(=O)C([H])(C([H])([H])[...   NP   \n",
       "3            24167  [H]OC12c3c([H])c([H])c([H])c([H])c3N([H])C1([H...   NP   \n",
       "4            51906  [H]Oc1c([H])c([H])c(C([H])([H])C2([H])C(=O)N([...   NP   \n",
       "...            ...                                                ...  ...   \n",
       "6650         37267  [H]OC([H])(C([H])([H])[H])C1([H])OC(=O)C(C2([H...   NP   \n",
       "6651          6289  [H]Oc1c([H])c([H])c(-c2oc3c(O[H])c(OC([H])([H]...   NP   \n",
       "6652         54959  [H]OC1([H])C2=C(OC([H])([H])[H])C(=O)C([H])=C(...   NP   \n",
       "6653           866  [H]OC(=O)C([H])(C([H])([H])[H])C([H])([H])C(=O...   NP   \n",
       "6654         15848  [H]Oc1c([H])c2c(c(O[H])c1C([H])([H])C([H])=C(C...   NP   \n",
       "\n",
       "      MaxEStateIndex  MinEStateIndex  MaxAbsEStateIndex  MinAbsEStateIndex  \\\n",
       "0          10.164502       -0.445099          10.164502           0.030833   \n",
       "1          11.810571       -1.257729          11.810571           0.047361   \n",
       "2          14.635249       -1.880928          14.635249           0.009939   \n",
       "3          10.295694       -0.795046          10.295694           0.245463   \n",
       "4          15.025844       -1.826261          15.025844           0.062522   \n",
       "...              ...             ...                ...                ...   \n",
       "6650       11.234537       -0.656939          11.234537           0.103286   \n",
       "6651       12.859549       -0.703168          12.859549           0.020296   \n",
       "6652       13.375765       -1.488981          13.375765           0.079292   \n",
       "6653       12.789495       -1.028091          12.789495           0.010090   \n",
       "6654       13.574879       -2.172618          13.574879           0.010986   \n",
       "\n",
       "           qed     MolWt  HeavyAtomMolWt  ...  fr_sulfide  fr_sulfonamd  \\\n",
       "0     0.212838   387.564         350.268  ...           0             0   \n",
       "1     0.350179   392.404         368.212  ...           0             0   \n",
       "2     0.079820  1048.248         974.664  ...           0             0   \n",
       "3     0.621942   177.203         166.115  ...           0             0   \n",
       "4     0.081104  1051.274         976.682  ...           0             0   \n",
       "...        ...       ...             ...  ...         ...           ...   \n",
       "6650  0.484710   184.191         172.095  ...           0             0   \n",
       "6651  0.607670   360.318         344.190  ...           0             0   \n",
       "6652  0.281608   576.643         536.323  ...           0             0   \n",
       "6653  0.600967   401.459         374.243  ...           0             0   \n",
       "6654  0.481178   454.519         424.279  ...           0             0   \n",
       "\n",
       "      fr_sulfone  fr_term_acetylene  fr_tetrazole  fr_thiazole  fr_thiocyan  \\\n",
       "0              0                  0             0            0            0   \n",
       "1              0                  0             0            0            0   \n",
       "2              0                  0             0            0            0   \n",
       "3              0                  0             0            0            0   \n",
       "4              0                  0             0            0            0   \n",
       "...          ...                ...           ...          ...          ...   \n",
       "6650           0                  0             0            0            0   \n",
       "6651           0                  0             0            0            0   \n",
       "6652           0                  0             0            0            0   \n",
       "6653           0                  0             0            0            0   \n",
       "6654           0                  0             0            0            0   \n",
       "\n",
       "      fr_thiophene  fr_unbrch_alkane  fr_urea  \n",
       "0                0                 0        0  \n",
       "1                0                 0        0  \n",
       "2                0                 0        0  \n",
       "3                0                 0        0  \n",
       "4                0                 0        0  \n",
       "...            ...               ...      ...  \n",
       "6650             0                 0        0  \n",
       "6651             0                 0        0  \n",
       "6652             0                 0        0  \n",
       "6653             0                 0        0  \n",
       "6654             0                 0        0  \n",
       "\n",
       "[6655 rows x 211 columns]"
      ]
     },
     "execution_count": 17,
     "metadata": {},
     "output_type": "execute_result"
    }
   ],
   "source": [
    "NP"
   ]
  },
  {
   "cell_type": "markdown",
   "id": "46219b74",
   "metadata": {},
   "source": [
    "### 1.3 - Saving NP in image! 🍃 ⇾ ⚛️"
   ]
  },
  {
   "cell_type": "code",
   "execution_count": 18,
   "id": "ff998d6e",
   "metadata": {},
   "outputs": [],
   "source": [
    "import os\n",
    "from PIL import Image\n",
    "from rdkit import Chem\n",
    "from rdkit.Chem import Draw\n",
    "\n",
    "# Verifique se a pasta \"imagens\" existe e, se não existir, crie-a\n",
    "if not os.path.exists(\"images\"):\n",
    "    os.makedirs(\"images\")\n",
    "\n",
    "# Verifique se a pasta \"imagens/drugs\" existe e, se não existir, crie-a\n",
    "if not os.path.exists(\"images/NP\"):\n",
    "    os.makedirs(\"images/NP\")\n",
    "\n",
    "for i in range(0, len(NP)):\n",
    "    ms = [Chem.MolFromSmiles(NP['smiles'][i])]\n",
    "    img = Draw.MolsToGridImage(ms, molsPerRow=1, maxMols=1, subImgSize=(100, 100), returnPNG=False)\n",
    "    nome = f\"NP_{i}.png\"\n",
    "\n",
    "    # Salve a imagem na pasta \"imagens/drugs\"\n",
    "    img.save(os.path.join(\"images\", \"NP\", nome))\n"
   ]
  },
  {
   "cell_type": "markdown",
   "id": "7e469282",
   "metadata": {},
   "source": [
    "### 1.4 - Saving Drugs in image! 💊 ⇾ ⚛️"
   ]
  },
  {
   "cell_type": "code",
   "execution_count": 19,
   "id": "1a98bbdb",
   "metadata": {},
   "outputs": [],
   "source": [
    "drugs.reset_index(inplace=True)"
   ]
  },
  {
   "cell_type": "code",
   "execution_count": 20,
   "id": "bbf8b0ce",
   "metadata": {},
   "outputs": [
    {
     "name": "stderr",
     "output_type": "stream",
     "text": [
      "RDKit ERROR: [09:13:29] Explicit valence for atom # 20 N, 4, is greater than permitted\n",
      "[09:13:29] Explicit valence for atom # 20 N, 4, is greater than permitted\n"
     ]
    }
   ],
   "source": [
    "import os\n",
    "from PIL import Image\n",
    "from rdkit import Chem\n",
    "from rdkit.Chem import Draw\n",
    "\n",
    "# Verifique se a pasta \"imagens\" existe e, se não existir, crie-a\n",
    "if not os.path.exists(\"images\"):\n",
    "    os.makedirs(\"images\")\n",
    "\n",
    "# Verifique se a pasta \"imagens/drugs\" existe e, se não existir, crie-a\n",
    "if not os.path.exists(\"images/drugs\"):\n",
    "    os.makedirs(\"images/drugs\")\n",
    "\n",
    "for i in range(0, len(drugs)):\n",
    "    ms = [Chem.MolFromSmiles(drugs['smiles'][i])]\n",
    "    img = Draw.MolsToGridImage(ms, molsPerRow=1, maxMols=1, subImgSize=(100, 100), returnPNG=False)\n",
    "    nome = f\"drug_{i}.png\"\n",
    "\n",
    "    # Salve a imagem na pasta \"imagens/drugs\"\n",
    "    img.save(os.path.join(\"images\", \"drugs\", nome))\n"
   ]
  },
  {
   "cell_type": "markdown",
   "id": "d9632832",
   "metadata": {},
   "source": [
    "<table align=\"left\" class=\"dashed-box\">\n",
    "<tr>\n",
    "    <td>💡</td>\n",
    "    <td>Now we have two classes of molecules: NP (Natural Products) and Drugs. Sufficient material to start feeding a convolutional neural network</td>\n",
    "</tr>\n",
    "</table>\n"
   ]
  },
  {
   "cell_type": "code",
   "execution_count": 49,
   "id": "6a48c170",
   "metadata": {},
   "outputs": [
    {
     "data": {
      "text/html": [
       "<style>\n",
       ".dashed-box {\n",
       "    border: 1px dashed black !important;\n",
       "    font-size: 14px !important; /* Ajuste o tamanho da fonte desejado aqui */\n",
       "}\n",
       "\n",
       ".dashed-box table {\n",
       "\n",
       "}\n",
       "\n",
       ".dashed-box tr {\n",
       "    background-color: white !important;\n",
       "}\n",
       "\n",
       ".alt-tab {\n",
       "    background-color: black;\n",
       "    color: #ffc351;\n",
       "    padding: 4px;\n",
       "    font-size: 1em;\n",
       "    font-weight: bold;\n",
       "    font-family: monospace;\n",
       "}\n",
       "// add your CSS styling here\n",
       "</style>\n"
      ],
      "text/plain": [
       "<IPython.core.display.HTML object>"
      ]
     },
     "metadata": {},
     "output_type": "display_data"
    }
   ],
   "source": [
    "%%html\n",
    "<style>\n",
    ".dashed-box {\n",
    "    border: 1px dashed black !important;\n",
    "    font-size: 14px !important; /* \n",
    "}\n",
    "\n",
    ".dashed-box table {\n",
    "\n",
    "}\n",
    "\n",
    ".dashed-box tr {\n",
    "    background-color: white !important;\n",
    "}\n",
    "\n",
    ".alt-tab {\n",
    "    background-color: black;\n",
    "    color: #ffc351;\n",
    "    padding: 4px;\n",
    "    font-size: 1em;\n",
    "    font-weight: bold;\n",
    "    font-family: monospace;\n",
    "}\n",
    "// add your CSS styling here\n",
    "</style>\n"
   ]
  },
  {
   "cell_type": "code",
   "execution_count": null,
   "id": "af40ea1f",
   "metadata": {},
   "outputs": [],
   "source": []
  }
 ],
 "metadata": {
  "kernelspec": {
   "display_name": "Python 3 (ipykernel)",
   "language": "python",
   "name": "python3"
  },
  "language_info": {
   "codemirror_mode": {
    "name": "ipython",
    "version": 3
   },
   "file_extension": ".py",
   "mimetype": "text/x-python",
   "name": "python",
   "nbconvert_exporter": "python",
   "pygments_lexer": "ipython3",
   "version": "3.7.7"
  }
 },
 "nbformat": 4,
 "nbformat_minor": 5
}
